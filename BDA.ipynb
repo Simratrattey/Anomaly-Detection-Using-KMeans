{
 "cells": [
  {
   "cell_type": "code",
   "execution_count": 1,
   "id": "a71af885-6bc2-4836-8ba0-12e01ca01af0",
   "metadata": {},
   "outputs": [],
   "source": [
    "import pyspark"
   ]
  },
  {
   "cell_type": "code",
   "execution_count": 2,
   "id": "b21df341-2086-403c-b547-c6cfe4919e79",
   "metadata": {},
   "outputs": [
    {
     "name": "stderr",
     "output_type": "stream",
     "text": [
      "24/04/08 16:32:27 WARN Utils: Your hostname, Apples-MacBook-Pro.local resolves to a loopback address: 127.0.0.1; using 172.20.10.2 instead (on interface en0)\n",
      "24/04/08 16:32:27 WARN Utils: Set SPARK_LOCAL_IP if you need to bind to another address\n",
      "Setting default log level to \"WARN\".\n",
      "To adjust logging level use sc.setLogLevel(newLevel). For SparkR, use setLogLevel(newLevel).\n",
      "24/04/08 16:32:28 WARN NativeCodeLoader: Unable to load native-hadoop library for your platform... using builtin-java classes where applicable\n"
     ]
    }
   ],
   "source": [
    "from pyspark.sql import SparkSession\n",
    "spark = SparkSession.builder.appName('proj').getOrCreate()"
   ]
  },
  {
   "cell_type": "code",
   "execution_count": 3,
   "id": "e420ee18-f9b7-48ec-ae99-044de133a157",
   "metadata": {},
   "outputs": [
    {
     "data": {
      "text/plain": [
       "[('spark.app.submitTime', '1712574147871'),\n",
       " ('spark.app.id', 'local-1712574148917'),\n",
       " ('spark.driver.extraJavaOptions',\n",
       "  '-Djava.net.preferIPv6Addresses=false -XX:+IgnoreUnrecognizedVMOptions --add-opens=java.base/java.lang=ALL-UNNAMED --add-opens=java.base/java.lang.invoke=ALL-UNNAMED --add-opens=java.base/java.lang.reflect=ALL-UNNAMED --add-opens=java.base/java.io=ALL-UNNAMED --add-opens=java.base/java.net=ALL-UNNAMED --add-opens=java.base/java.nio=ALL-UNNAMED --add-opens=java.base/java.util=ALL-UNNAMED --add-opens=java.base/java.util.concurrent=ALL-UNNAMED --add-opens=java.base/java.util.concurrent.atomic=ALL-UNNAMED --add-opens=java.base/jdk.internal.ref=ALL-UNNAMED --add-opens=java.base/sun.nio.ch=ALL-UNNAMED --add-opens=java.base/sun.nio.cs=ALL-UNNAMED --add-opens=java.base/sun.security.action=ALL-UNNAMED --add-opens=java.base/sun.util.calendar=ALL-UNNAMED --add-opens=java.security.jgss/sun.security.krb5=ALL-UNNAMED -Djdk.reflect.useDirectMethodHandle=false'),\n",
       " ('spark.app.startTime', '1712574148069'),\n",
       " ('spark.executor.id', 'driver'),\n",
       " ('spark.driver.port', '60124'),\n",
       " ('spark.driver.host', '172.20.10.2'),\n",
       " ('spark.rdd.compress', 'True'),\n",
       " ('spark.executor.extraJavaOptions',\n",
       "  '-Djava.net.preferIPv6Addresses=false -XX:+IgnoreUnrecognizedVMOptions --add-opens=java.base/java.lang=ALL-UNNAMED --add-opens=java.base/java.lang.invoke=ALL-UNNAMED --add-opens=java.base/java.lang.reflect=ALL-UNNAMED --add-opens=java.base/java.io=ALL-UNNAMED --add-opens=java.base/java.net=ALL-UNNAMED --add-opens=java.base/java.nio=ALL-UNNAMED --add-opens=java.base/java.util=ALL-UNNAMED --add-opens=java.base/java.util.concurrent=ALL-UNNAMED --add-opens=java.base/java.util.concurrent.atomic=ALL-UNNAMED --add-opens=java.base/jdk.internal.ref=ALL-UNNAMED --add-opens=java.base/sun.nio.ch=ALL-UNNAMED --add-opens=java.base/sun.nio.cs=ALL-UNNAMED --add-opens=java.base/sun.security.action=ALL-UNNAMED --add-opens=java.base/sun.util.calendar=ALL-UNNAMED --add-opens=java.security.jgss/sun.security.krb5=ALL-UNNAMED -Djdk.reflect.useDirectMethodHandle=false'),\n",
       " ('spark.serializer.objectStreamReset', '100'),\n",
       " ('spark.master', 'local[*]'),\n",
       " ('spark.submit.pyFiles', ''),\n",
       " ('spark.submit.deployMode', 'client'),\n",
       " ('spark.ui.showConsoleProgress', 'true'),\n",
       " ('spark.app.name', 'proj')]"
      ]
     },
     "execution_count": 3,
     "metadata": {},
     "output_type": "execute_result"
    }
   ],
   "source": [
    "spark.sparkContext.getConf().getAll()"
   ]
  },
  {
   "cell_type": "code",
   "execution_count": 4,
   "id": "402e8305-f5de-433a-88ad-784614294995",
   "metadata": {},
   "outputs": [],
   "source": [
    "import matplotlib.pyplot as plt\n",
    "import numpy as np\n",
    "\n",
    "from pyspark.ml.feature import Tokenizer, StopWordsRemover, CountVectorizer, StandardScaler, MinHashLSH, VectorAssembler\n",
    "from pyspark.sql.functions import udf, col\n",
    "from pyspark.sql.types import *\n",
    "from pyspark.ml.functions import vector_to_array\n",
    "from pyspark.ml.linalg import Vectors\n",
    "\n",
    "from pyspark.ml.clustering import KMeans\n",
    "from pyspark.ml.evaluation import ClusteringEvaluator\n",
    "from pyspark.mllib.stat import KernelDensity"
   ]
  },
  {
   "cell_type": "code",
   "execution_count": 5,
   "id": "63a0d3df-f520-48dd-8f0a-aaa57aec91d7",
   "metadata": {},
   "outputs": [
    {
     "name": "stderr",
     "output_type": "stream",
     "text": [
      "                                                                                \r"
     ]
    }
   ],
   "source": [
    "email = spark.read.csv( '/Users/apple/Desktop/email.csv',inferSchema=True,header=True)"
   ]
  },
  {
   "cell_type": "code",
   "execution_count": 6,
   "id": "0c1528d4-cac5-4211-80fa-85bd76109a6e",
   "metadata": {},
   "outputs": [
    {
     "name": "stdout",
     "output_type": "stream",
     "text": [
      "root\n",
      " |-- id: string (nullable = true)\n",
      " |-- date: string (nullable = true)\n",
      " |-- user: string (nullable = true)\n",
      " |-- pc: string (nullable = true)\n",
      " |-- to: string (nullable = true)\n",
      " |-- cc: string (nullable = true)\n",
      " |-- bcc: string (nullable = true)\n",
      " |-- from: string (nullable = true)\n",
      " |-- size: integer (nullable = true)\n",
      " |-- attachments: integer (nullable = true)\n",
      " |-- content: string (nullable = true)\n",
      "\n",
      "+--------------------+-------------------+-------+-------+--------------------+--------------------+--------------------+--------------------+-----+-----------+--------------------+\n",
      "|                  id|               date|   user|     pc|                  to|                  cc|                 bcc|                from| size|attachments|             content|\n",
      "+--------------------+-------------------+-------+-------+--------------------+--------------------+--------------------+--------------------+-----+-----------+--------------------+\n",
      "|{R3I7-S4TX96FG-82...|01/02/2010 07:11:45|LAP0338|PC-5758|Dean.Flynn.Hines@...|Nathaniel.Hunter....|                NULL|Lynn.Adena.Pratt@...|25830|          0|middle f2 systems...|\n",
      "|{R0R9-E4GL59IK-29...|01/02/2010 07:12:16|MOH0273|PC-6699|Odonnell-Gage@bel...|                NULL|                NULL| MOH68@optonline.net|29942|          0|the breaking call...|\n",
      "|{G2B2-A8XY58CP-28...|01/02/2010 07:13:00|LAP0338|PC-5758|Penelope_Colon@ne...|                NULL|                NULL|Lynn_A_Pratt@eart...|28780|          0|slowly this uncin...|\n",
      "|{A3A9-F4TH89AA-83...|01/02/2010 07:13:17|LAP0338|PC-5758|Judith_Hayden@com...|                NULL|                NULL|Lynn_A_Pratt@eart...|21907|          0|400 other difficu...|\n",
      "|{E8B7-C8FZ88UF-29...|01/02/2010 07:13:28|MOH0273|PC-6699|Bond-Raymond@veri...|                NULL|Odonnell-Gage@bel...| MOH68@optonline.net|17319|          0|this kmh october ...|\n",
      "+--------------------+-------------------+-------+-------+--------------------+--------------------+--------------------+--------------------+-----+-----------+--------------------+\n",
      "only showing top 5 rows\n",
      "\n"
     ]
    }
   ],
   "source": [
    "email.printSchema()\n",
    "email.show(5)"
   ]
  },
  {
   "cell_type": "code",
   "execution_count": 7,
   "id": "f2758c56-b273-48e0-9df0-e17d80fce043",
   "metadata": {},
   "outputs": [],
   "source": [
    "tokenizer = Tokenizer(inputCol=\"content\", outputCol=\"words\")\n",
    "wordsData = tokenizer.transform(email)\n",
    "\n",
    "remover = StopWordsRemover(inputCol=\"words\", outputCol=\"clean_words\")\n",
    "wordsData = remover.transform(wordsData)"
   ]
  },
  {
   "cell_type": "code",
   "execution_count": 8,
   "id": "35b34aef-8e97-4538-92d1-75ad69834d49",
   "metadata": {},
   "outputs": [
    {
     "name": "stdout",
     "output_type": "stream",
     "text": [
      "+--------------------+-------------------+-------+-------+--------------------+--------------------+--------------------+--------------------+-----+-----------+--------------------+--------------------+--------------------+\n",
      "|                  id|               date|   user|     pc|                  to|                  cc|                 bcc|                from| size|attachments|             content|               words|         clean_words|\n",
      "+--------------------+-------------------+-------+-------+--------------------+--------------------+--------------------+--------------------+-----+-----------+--------------------+--------------------+--------------------+\n",
      "|{R3I7-S4TX96FG-82...|01/02/2010 07:11:45|LAP0338|PC-5758|Dean.Flynn.Hines@...|Nathaniel.Hunter....|                NULL|Lynn.Adena.Pratt@...|25830|          0|middle f2 systems...|[middle, f2, syst...|[middle, f2, syst...|\n",
      "|{R0R9-E4GL59IK-29...|01/02/2010 07:12:16|MOH0273|PC-6699|Odonnell-Gage@bel...|                NULL|                NULL| MOH68@optonline.net|29942|          0|the breaking call...|[the, breaking, c...|[breaking, called...|\n",
      "|{G2B2-A8XY58CP-28...|01/02/2010 07:13:00|LAP0338|PC-5758|Penelope_Colon@ne...|                NULL|                NULL|Lynn_A_Pratt@eart...|28780|          0|slowly this uncin...|[slowly, this, un...|[slowly, uncinus,...|\n",
      "|{A3A9-F4TH89AA-83...|01/02/2010 07:13:17|LAP0338|PC-5758|Judith_Hayden@com...|                NULL|                NULL|Lynn_A_Pratt@eart...|21907|          0|400 other difficu...|[400, other, diff...|[400, difficult, ...|\n",
      "|{E8B7-C8FZ88UF-29...|01/02/2010 07:13:28|MOH0273|PC-6699|Bond-Raymond@veri...|                NULL|Odonnell-Gage@bel...| MOH68@optonline.net|17319|          0|this kmh october ...|[this, kmh, octob...|[kmh, october, ho...|\n",
      "|{X8T7-A6BT54FP-72...|01/02/2010 07:36:03|HVB0037|PC-7979|Gaines-Joseph@msn...|Hollee_Becker@hot...|                NULL|Hollee_Becker@hot...|44345|          0|little equal k is...|[little, equal, k...|[little, equal, k...|\n",
      "|{H5J6-G2RS59KI-83...|01/02/2010 07:52:20|NWK0215|PC-8370|Heidi_Wilson@msn....|Noelani.W.Kennedy...|                NULL|Noelani.W.Kennedy...|35328|          0|stroke menacing 1...|[stroke, menacing...|[stroke, menacing...|\n",
      "|{D9T8-M1HJ89XP-63...|01/02/2010 07:54:12|LRR0148|PC-4275|Eve.Isadora.Mcken...|                NULL|                NULL|Libby.Rosalyn.Ric...|25255|          1|leading companys ...|[leading, company...|[leading, company...|\n",
      "|{V3L7-L2RB92RV-91...|01/02/2010 07:54:49|LRR0148|PC-4275|Cedric.Herrod.Gil...|                NULL|                NULL|Libby.Rosalyn.Ric...|33967|          0|reception website...|[reception, websi...|[reception, websi...|\n",
      "|{D5K9-P0IJ71WK-63...|01/02/2010 07:54:58|LRR0148|PC-4275|Gay.Ria.Cantu@dta...|Zenia.Freya.Macia...|                NULL|Libby.Rosalyn.Ric...|19456|          1|smaller weather r...|[smaller, weather...|[smaller, weather...|\n",
      "|{R0A5-U4YQ17EA-34...|01/02/2010 07:55:16|LRR0148|PC-4275|August_Holt@boein...|                NULL|                NULL|Libby.Rosalyn.Ric...|23687|          0|do potentially 2 ...|[do, potentially,...|[potentially, 2, ...|\n",
      "|{Y8Z6-X5HU72BM-73...|01/02/2010 07:55:51|NWK0215|PC-8370|Tasha_Sanchez@opt...|Ulric-Knapp@earth...|Noelani.W.Kennedy...|Noelani.W.Kennedy...|28960|          0|villepin five sha...|[villepin, five, ...|[villepin, five, ...|\n",
      "|{K3B8-S0RJ27BU-68...|01/02/2010 07:56:09|AJR0319|PC-4736|Ulric.Ferdinand.K...|Meghan.Brianna.Je...|Arthur.Jacob.Raym...|Arthur.Jacob.Raym...|23116|          1|he instill prehis...|[he, instill, pre...|[instill, prehist...|\n",
      "|{J7Y1-G7KD78BQ-41...|01/02/2010 07:56:49|LRR0148|PC-4275|Gay.Ria.Cantu@dta...|Sasha.Rina.Huffma...|                NULL|Libby.Rosalyn.Ric...|53349|          1|went could jackso...|[went, could, jac...|[went, jackson, a...|\n",
      "|{D7P4-Z0PP26KM-17...|01/02/2010 07:57:10|AJR0319|PC-4736|Meredith.Ainsley....|Arthur.Jacob.Raym...|                NULL|Arthur.Jacob.Raym...|26284|          0|connections progr...|[connections, pro...|[connections, pro...|\n",
      "|{P6J4-Y0XJ63II-57...|01/02/2010 07:58:04|AJR0319|PC-4736|Connor.Phelan.Gue...|Arthur.Jacob.Raym...|                NULL|Arthur.Jacob.Raym...|25317|          0|rested considered...|[rested, consider...|[rested, consider...|\n",
      "|{K7Y5-V5IP47OA-83...|01/02/2010 07:58:07|LRR0148|PC-4275|Bevis.Brady.Shepp...|Gay.Ria.Cantu@dta...|                NULL|Libby.Rosalyn.Ric...|16168|          2|additional funera...|[additional, fune...|[additional, fune...|\n",
      "|{R9V2-W5OA43XS-14...|01/02/2010 07:58:13|LRR0148|PC-4275|Thomas.Vladimir.S...|                NULL|                NULL|Libby.Rosalyn.Ric...|52290|          0|need there did co...|[need, there, did...|[need, comes, nam...|\n",
      "|{X4R4-F1BP75UA-02...|01/02/2010 07:58:15|LRR0148|PC-4275|Sasha.Rina.Huffma...|                NULL|                NULL|Libby.Rosalyn.Ric...|18333|          0|since data englis...|[since, data, eng...|[since, data, eng...|\n",
      "|{N4L7-S2MN81EJ-50...|01/02/2010 07:58:25|LRR0148|PC-4275|Nissim.Gil.French...|                NULL|                NULL|Libby.Rosalyn.Ric...|35956|          3|orphan treatment ...|[orphan, treatmen...|[orphan, treatmen...|\n",
      "+--------------------+-------------------+-------+-------+--------------------+--------------------+--------------------+--------------------+-----+-----------+--------------------+--------------------+--------------------+\n",
      "only showing top 20 rows\n",
      "\n"
     ]
    }
   ],
   "source": [
    "wordsData.show()"
   ]
  },
  {
   "cell_type": "code",
   "execution_count": 9,
   "id": "df3e9d21-a884-41c2-a95b-cc7db446b5b9",
   "metadata": {},
   "outputs": [
    {
     "name": "stderr",
     "output_type": "stream",
     "text": [
      "24/04/08 16:32:42 WARN GarbageCollectionMetrics: To enable non-built-in garbage collector(s) List(G1 Concurrent GC), users should configure it(them) to spark.eventLog.gcMetrics.youngGenerationGarbageCollectors or spark.eventLog.gcMetrics.oldGenerationGarbageCollectors\n",
      "                                                                                \r"
     ]
    }
   ],
   "source": [
    "cv = CountVectorizer(inputCol=\"clean_words\", outputCol=\"features\", vocabSize=1000, minDF=2.0)\n",
    "\n",
    "model = cv.fit(wordsData)\n",
    "\n",
    "wordsCV = model.transform(wordsData)"
   ]
  },
  {
   "cell_type": "code",
   "execution_count": 10,
   "id": "d5882be5-c600-45de-a299-0516b7b8fcc3",
   "metadata": {},
   "outputs": [],
   "source": [
    "all0vector = Vectors.dense([0]*1000) \n",
    "\n",
    "def no_empty_vector(value):\n",
    "    if value != all0vector:\n",
    "        return True\n",
    "    else:\n",
    "        return False\n",
    "\n",
    "no_empty_vector_udf = udf(no_empty_vector, BooleanType())\n",
    "wordsCV = wordsCV.filter(no_empty_vector_udf('features'))"
   ]
  },
  {
   "cell_type": "code",
   "execution_count": 11,
   "id": "584ad02a-2e03-4bad-8d7d-f500beeaa1a6",
   "metadata": {},
   "outputs": [
    {
     "name": "stderr",
     "output_type": "stream",
     "text": [
      "[Stage 8:>                                                          (0 + 1) / 1]\r"
     ]
    },
    {
     "name": "stdout",
     "output_type": "stream",
     "text": [
      "+--------------------+-------------------+-------+-------+--------------------+--------------------+--------------------+--------------------+-----+-----------+--------------------+--------------------+--------------------+--------------------+\n",
      "|                  id|               date|   user|     pc|                  to|                  cc|                 bcc|                from| size|attachments|             content|               words|         clean_words|            features|\n",
      "+--------------------+-------------------+-------+-------+--------------------+--------------------+--------------------+--------------------+-----+-----------+--------------------+--------------------+--------------------+--------------------+\n",
      "|{R3I7-S4TX96FG-82...|01/02/2010 07:11:45|LAP0338|PC-5758|Dean.Flynn.Hines@...|Nathaniel.Hunter....|                NULL|Lynn.Adena.Pratt@...|25830|          0|middle f2 systems...|[middle, f2, syst...|[middle, f2, syst...|(1000,[28,59,105,...|\n",
      "|{R0R9-E4GL59IK-29...|01/02/2010 07:12:16|MOH0273|PC-6699|Odonnell-Gage@bel...|                NULL|                NULL| MOH68@optonline.net|29942|          0|the breaking call...|[the, breaking, c...|[breaking, called...|(1000,[5,10,22,29...|\n",
      "|{G2B2-A8XY58CP-28...|01/02/2010 07:13:00|LAP0338|PC-5758|Penelope_Colon@ne...|                NULL|                NULL|Lynn_A_Pratt@eart...|28780|          0|slowly this uncin...|[slowly, this, un...|[slowly, uncinus,...|(1000,[5,16,63,14...|\n",
      "|{A3A9-F4TH89AA-83...|01/02/2010 07:13:17|LAP0338|PC-5758|Judith_Hayden@com...|                NULL|                NULL|Lynn_A_Pratt@eart...|21907|          0|400 other difficu...|[400, other, diff...|[400, difficult, ...|(1000,[5,36,38,80...|\n",
      "|{E8B7-C8FZ88UF-29...|01/02/2010 07:13:28|MOH0273|PC-6699|Bond-Raymond@veri...|                NULL|Odonnell-Gage@bel...| MOH68@optonline.net|17319|          0|this kmh october ...|[this, kmh, octob...|[kmh, october, ho...|(1000,[9,14,56,72...|\n",
      "|{X8T7-A6BT54FP-72...|01/02/2010 07:36:03|HVB0037|PC-7979|Gaines-Joseph@msn...|Hollee_Becker@hot...|                NULL|Hollee_Becker@hot...|44345|          0|little equal k is...|[little, equal, k...|[little, equal, k...|(1000,[28,40,54,5...|\n",
      "|{H5J6-G2RS59KI-83...|01/02/2010 07:52:20|NWK0215|PC-8370|Heidi_Wilson@msn....|Noelani.W.Kennedy...|                NULL|Noelani.W.Kennedy...|35328|          0|stroke menacing 1...|[stroke, menacing...|[stroke, menacing...|(1000,[12,38,71,7...|\n",
      "|{D9T8-M1HJ89XP-63...|01/02/2010 07:54:12|LRR0148|PC-4275|Eve.Isadora.Mcken...|                NULL|                NULL|Libby.Rosalyn.Ric...|25255|          1|leading companys ...|[leading, company...|[leading, company...|(1000,[9,10,24,11...|\n",
      "|{V3L7-L2RB92RV-91...|01/02/2010 07:54:49|LRR0148|PC-4275|Cedric.Herrod.Gil...|                NULL|                NULL|Libby.Rosalyn.Ric...|33967|          0|reception website...|[reception, websi...|[reception, websi...|(1000,[28,40,41,4...|\n",
      "|{D5K9-P0IJ71WK-63...|01/02/2010 07:54:58|LRR0148|PC-4275|Gay.Ria.Cantu@dta...|Zenia.Freya.Macia...|                NULL|Libby.Rosalyn.Ric...|19456|          1|smaller weather r...|[smaller, weather...|[smaller, weather...|(1000,[16,25,38,9...|\n",
      "|{R0A5-U4YQ17EA-34...|01/02/2010 07:55:16|LRR0148|PC-4275|August_Holt@boein...|                NULL|                NULL|Libby.Rosalyn.Ric...|23687|          0|do potentially 2 ...|[do, potentially,...|[potentially, 2, ...|(1000,[7,29,122,1...|\n",
      "|{Y8Z6-X5HU72BM-73...|01/02/2010 07:55:51|NWK0215|PC-8370|Tasha_Sanchez@opt...|Ulric-Knapp@earth...|Noelani.W.Kennedy...|Noelani.W.Kennedy...|28960|          0|villepin five sha...|[villepin, five, ...|[villepin, five, ...|(1000,[10,29,78,1...|\n",
      "|{K3B8-S0RJ27BU-68...|01/02/2010 07:56:09|AJR0319|PC-4736|Ulric.Ferdinand.K...|Meghan.Brianna.Je...|Arthur.Jacob.Raym...|Arthur.Jacob.Raym...|23116|          1|he instill prehis...|[he, instill, pre...|[instill, prehist...|(1000,[3,116,126,...|\n",
      "|{J7Y1-G7KD78BQ-41...|01/02/2010 07:56:49|LRR0148|PC-4275|Gay.Ria.Cantu@dta...|Sasha.Rina.Huffma...|                NULL|Libby.Rosalyn.Ric...|53349|          1|went could jackso...|[went, could, jac...|[went, jackson, a...|(1000,[33,43,45,4...|\n",
      "|{D7P4-Z0PP26KM-17...|01/02/2010 07:57:10|AJR0319|PC-4736|Meredith.Ainsley....|Arthur.Jacob.Raym...|                NULL|Arthur.Jacob.Raym...|26284|          0|connections progr...|[connections, pro...|[connections, pro...|(1000,[35,52,128,...|\n",
      "|{P6J4-Y0XJ63II-57...|01/02/2010 07:58:04|AJR0319|PC-4736|Connor.Phelan.Gue...|Arthur.Jacob.Raym...|                NULL|Arthur.Jacob.Raym...|25317|          0|rested considered...|[rested, consider...|[rested, consider...|(1000,[4,10,38,10...|\n",
      "|{K7Y5-V5IP47OA-83...|01/02/2010 07:58:07|LRR0148|PC-4275|Bevis.Brady.Shepp...|Gay.Ria.Cantu@dta...|                NULL|Libby.Rosalyn.Ric...|16168|          2|additional funera...|[additional, fune...|[additional, fune...|(1000,[23,65,74,1...|\n",
      "|{R9V2-W5OA43XS-14...|01/02/2010 07:58:13|LRR0148|PC-4275|Thomas.Vladimir.S...|                NULL|                NULL|Libby.Rosalyn.Ric...|52290|          0|need there did co...|[need, there, did...|[need, comes, nam...|(1000,[9,65,80,11...|\n",
      "|{X4R4-F1BP75UA-02...|01/02/2010 07:58:15|LRR0148|PC-4275|Sasha.Rina.Huffma...|                NULL|                NULL|Libby.Rosalyn.Ric...|18333|          0|since data englis...|[since, data, eng...|[since, data, eng...|(1000,[4,23,24,33...|\n",
      "|{N4L7-S2MN81EJ-50...|01/02/2010 07:58:25|LRR0148|PC-4275|Nissim.Gil.French...|                NULL|                NULL|Libby.Rosalyn.Ric...|35956|          3|orphan treatment ...|[orphan, treatmen...|[orphan, treatmen...|(1000,[47,77,96,1...|\n",
      "+--------------------+-------------------+-------+-------+--------------------+--------------------+--------------------+--------------------+-----+-----------+--------------------+--------------------+--------------------+--------------------+\n",
      "only showing top 20 rows\n",
      "\n"
     ]
    },
    {
     "name": "stderr",
     "output_type": "stream",
     "text": [
      "                                                                                \r"
     ]
    }
   ],
   "source": [
    "wordsCV.show()"
   ]
  },
  {
   "cell_type": "code",
   "execution_count": 12,
   "id": "bca1bcfb-7b0b-419e-9a80-06b9bb9a6a8d",
   "metadata": {},
   "outputs": [],
   "source": [
    "mh = MinHashLSH(inputCol=\"features\", outputCol=\"hashes\", numHashTables=20)\n",
    "model = mh.fit(wordsCV)\n",
    "wordsHash = model.transform(wordsCV)"
   ]
  },
  {
   "cell_type": "code",
   "execution_count": 13,
   "id": "89f70e16-e558-49ef-ab29-5c7200de4daa",
   "metadata": {},
   "outputs": [
    {
     "name": "stderr",
     "output_type": "stream",
     "text": [
      "[Stage 9:>                                                          (0 + 1) / 1]\r"
     ]
    },
    {
     "name": "stdout",
     "output_type": "stream",
     "text": [
      "+--------------------+-------------------+-------+-------+--------------------+--------------------+--------------------+--------------------+-----+-----------+--------------------+--------------------+--------------------+--------------------+--------------------+\n",
      "|                  id|               date|   user|     pc|                  to|                  cc|                 bcc|                from| size|attachments|             content|               words|         clean_words|            features|              hashes|\n",
      "+--------------------+-------------------+-------+-------+--------------------+--------------------+--------------------+--------------------+-----+-----------+--------------------+--------------------+--------------------+--------------------+--------------------+\n",
      "|{R3I7-S4TX96FG-82...|01/02/2010 07:11:45|LAP0338|PC-5758|Dean.Flynn.Hines@...|Nathaniel.Hunter....|                NULL|Lynn.Adena.Pratt@...|25830|          0|middle f2 systems...|[middle, f2, syst...|[middle, f2, syst...|(1000,[28,59,105,...|[[2.7410964E7], [...|\n",
      "|{R0R9-E4GL59IK-29...|01/02/2010 07:12:16|MOH0273|PC-6699|Odonnell-Gage@bel...|                NULL|                NULL| MOH68@optonline.net|29942|          0|the breaking call...|[the, breaking, c...|[breaking, called...|(1000,[5,10,22,29...|[[1.01831224E8], ...|\n",
      "|{G2B2-A8XY58CP-28...|01/02/2010 07:13:00|LAP0338|PC-5758|Penelope_Colon@ne...|                NULL|                NULL|Lynn_A_Pratt@eart...|28780|          0|slowly this uncin...|[slowly, this, un...|[slowly, uncinus,...|(1000,[5,16,63,14...|[[4.10463155E8], ...|\n",
      "|{A3A9-F4TH89AA-83...|01/02/2010 07:13:17|LAP0338|PC-5758|Judith_Hayden@com...|                NULL|                NULL|Lynn_A_Pratt@eart...|21907|          0|400 other difficu...|[400, other, diff...|[400, difficult, ...|(1000,[5,36,38,80...|[[2.72544609E8], ...|\n",
      "|{E8B7-C8FZ88UF-29...|01/02/2010 07:13:28|MOH0273|PC-6699|Bond-Raymond@veri...|                NULL|Odonnell-Gage@bel...| MOH68@optonline.net|17319|          0|this kmh october ...|[this, kmh, octob...|[kmh, october, ho...|(1000,[9,14,56,72...|[[2429928.0], [3....|\n",
      "|{X8T7-A6BT54FP-72...|01/02/2010 07:36:03|HVB0037|PC-7979|Gaines-Joseph@msn...|Hollee_Becker@hot...|                NULL|Hollee_Becker@hot...|44345|          0|little equal k is...|[little, equal, k...|[little, equal, k...|(1000,[28,40,54,5...|[[4.042433E7], [4...|\n",
      "|{H5J6-G2RS59KI-83...|01/02/2010 07:52:20|NWK0215|PC-8370|Heidi_Wilson@msn....|Noelani.W.Kennedy...|                NULL|Noelani.W.Kennedy...|35328|          0|stroke menacing 1...|[stroke, menacing...|[stroke, menacing...|(1000,[12,38,71,7...|[[3.4179071E7], [...|\n",
      "|{D9T8-M1HJ89XP-63...|01/02/2010 07:54:12|LRR0148|PC-4275|Eve.Isadora.Mcken...|                NULL|                NULL|Libby.Rosalyn.Ric...|25255|          1|leading companys ...|[leading, company...|[leading, company...|(1000,[9,10,24,11...|[[4.6669589E7], [...|\n",
      "|{V3L7-L2RB92RV-91...|01/02/2010 07:54:49|LRR0148|PC-4275|Cedric.Herrod.Gil...|                NULL|                NULL|Libby.Rosalyn.Ric...|33967|          0|reception website...|[reception, websi...|[reception, websi...|(1000,[28,40,41,4...|[[1.47116581E8], ...|\n",
      "|{D5K9-P0IJ71WK-63...|01/02/2010 07:54:58|LRR0148|PC-4275|Gay.Ria.Cantu@dta...|Zenia.Freya.Macia...|                NULL|Libby.Rosalyn.Ric...|19456|          1|smaller weather r...|[smaller, weather...|[smaller, weather...|(1000,[16,25,38,9...|[[1.40871322E8], ...|\n",
      "|{R0A5-U4YQ17EA-34...|01/02/2010 07:55:16|LRR0148|PC-4275|August_Holt@boein...|                NULL|                NULL|Libby.Rosalyn.Ric...|23687|          0|do potentially 2 ...|[do, potentially,...|[potentially, 2, ...|(1000,[7,29,122,1...|[[1.77820028E8], ...|\n",
      "|{Y8Z6-X5HU72BM-73...|01/02/2010 07:55:51|NWK0215|PC-8370|Tasha_Sanchez@opt...|Ulric-Knapp@earth...|Noelani.W.Kennedy...|Noelani.W.Kennedy...|28960|          0|villepin five sha...|[villepin, five, ...|[villepin, five, ...|(1000,[10,29,78,1...|[[3.4179071E7], [...|\n",
      "|{K3B8-S0RJ27BU-68...|01/02/2010 07:56:09|AJR0319|PC-4736|Ulric.Ferdinand.K...|Meghan.Brianna.Je...|Arthur.Jacob.Raym...|Arthur.Jacob.Raym...|23116|          1|he instill prehis...|[he, instill, pre...|[instill, prehist...|(1000,[3,116,126,...|[[5.2914848E7], [...|\n",
      "|{J7Y1-G7KD78BQ-41...|01/02/2010 07:56:49|LRR0148|PC-4275|Gay.Ria.Cantu@dta...|Sasha.Rina.Huffma...|                NULL|Libby.Rosalyn.Ric...|53349|          1|went could jackso...|[went, could, jac...|[went, jackson, a...|(1000,[33,43,45,4...|[[5.2914848E7], [...|\n",
      "|{D7P4-Z0PP26KM-17...|01/02/2010 07:57:10|AJR0319|PC-4736|Meredith.Ainsley....|Arthur.Jacob.Raym...|                NULL|Arthur.Jacob.Raym...|26284|          0|connections progr...|[connections, pro...|[connections, pro...|(1000,[35,52,128,...|[[2.15291582E8], ...|\n",
      "|{P6J4-Y0XJ63II-57...|01/02/2010 07:58:04|AJR0319|PC-4736|Connor.Phelan.Gue...|Arthur.Jacob.Raym...|                NULL|Arthur.Jacob.Raym...|25317|          0|rested considered...|[rested, consider...|[rested, consider...|(1000,[4,10,38,10...|[[1.33057519E8], ...|\n",
      "|{K7Y5-V5IP47OA-83...|01/02/2010 07:58:07|LRR0148|PC-4275|Bevis.Brady.Shepp...|Gay.Ria.Cantu@dta...|                NULL|Libby.Rosalyn.Ric...|16168|          2|additional funera...|[additional, fune...|[additional, fune...|(1000,[23,65,74,1...|[[8.3095447E7], [...|\n",
      "|{R9V2-W5OA43XS-14...|01/02/2010 07:58:13|LRR0148|PC-4275|Thomas.Vladimir.S...|                NULL|                NULL|Libby.Rosalyn.Ric...|52290|          0|need there did co...|[need, there, did...|[need, comes, nam...|(1000,[9,65,80,11...|[[4.6669589E7], [...|\n",
      "|{X4R4-F1BP75UA-02...|01/02/2010 07:58:15|LRR0148|PC-4275|Sasha.Rina.Huffma...|                NULL|                NULL|Libby.Rosalyn.Ric...|18333|          0|since data englis...|[since, data, eng...|[since, data, eng...|(1000,[4,23,24,33...|[[2.60054091E8], ...|\n",
      "|{N4L7-S2MN81EJ-50...|01/02/2010 07:58:25|LRR0148|PC-4275|Nissim.Gil.French...|                NULL|                NULL|Libby.Rosalyn.Ric...|35956|          3|orphan treatment ...|[orphan, treatmen...|[orphan, treatmen...|(1000,[47,77,96,1...|[[1.08076483E8], ...|\n",
      "+--------------------+-------------------+-------+-------+--------------------+--------------------+--------------------+--------------------+-----+-----------+--------------------+--------------------+--------------------+--------------------+--------------------+\n",
      "only showing top 20 rows\n",
      "\n"
     ]
    },
    {
     "name": "stderr",
     "output_type": "stream",
     "text": [
      "                                                                                \r"
     ]
    }
   ],
   "source": [
    "wordsHash.show()"
   ]
  },
  {
   "cell_type": "code",
   "execution_count": 14,
   "id": "4b3167e3-6b48-49be-a002-957042265695",
   "metadata": {},
   "outputs": [],
   "source": [
    "id_hash = wordsHash.select('id', 'hashes')"
   ]
  },
  {
   "cell_type": "code",
   "execution_count": 15,
   "id": "af31709f-f089-4986-90b1-0bded4b43a7f",
   "metadata": {},
   "outputs": [
    {
     "name": "stderr",
     "output_type": "stream",
     "text": [
      "                                                                                \r"
     ]
    }
   ],
   "source": [
    "sc = spark.sparkContext\n",
    "\n",
    "numAttrs = 20\n",
    "attrs = sc.parallelize([\"hash_\" + str(i) for i in range(numAttrs)]).zipWithIndex().collect()\n",
    "for name, index in attrs:\n",
    "    id_hash = id_hash.withColumn(name, id_hash['hashes'].getItem(index))"
   ]
  },
  {
   "cell_type": "code",
   "execution_count": 16,
   "id": "ac594896-a521-4f66-a504-7ac988dbcca8",
   "metadata": {},
   "outputs": [
    {
     "name": "stderr",
     "output_type": "stream",
     "text": [
      "[Stage 12:>                                                         (0 + 1) / 1]\r"
     ]
    },
    {
     "name": "stdout",
     "output_type": "stream",
     "text": [
      "+--------------------+--------------------+--------------+--------------+--------------+--------------+--------------+--------------+--------------+--------------+--------------+--------------+--------------+--------------+--------------+--------------+--------------+--------------+--------------+--------------+--------------+--------------+\n",
      "|                  id|              hashes|        hash_0|        hash_1|        hash_2|        hash_3|        hash_4|        hash_5|        hash_6|        hash_7|        hash_8|        hash_9|       hash_10|       hash_11|       hash_12|       hash_13|       hash_14|       hash_15|       hash_16|       hash_17|       hash_18|       hash_19|\n",
      "+--------------------+--------------------+--------------+--------------+--------------+--------------+--------------+--------------+--------------+--------------+--------------+--------------+--------------+--------------+--------------+--------------+--------------+--------------+--------------+--------------+--------------+--------------+\n",
      "|{R3I7-S4TX96FG-82...|[[2.7410964E7], [...| [2.7410964E7]|   [1656422.0]| [5.4649098E7]| [6.3318234E7]| [9.1997456E7]|[1.46204045E8]|   [6906386.0]| [1.6189098E7]| [8.6948313E7]|[1.31602957E8]| [3.5571356E7]|[2.04248289E8]| [4.9109483E7]| [9.7405986E7]| [2.5666611E7]| [2.0131684E8]|[1.72511998E8]|   [1260398.0]|  [4.984412E7]|   [2140447.0]|\n",
      "|{R0R9-E4GL59IK-29...|[[1.01831224E8], ...|[1.01831224E8]|  [6.554729E7]|   [2720126.0]|[4.77995808E8]| [1.2807476E7]|   [7003302.0]| [4.4873049E7]|[1.57026084E8]|   [6313702.0]|    [719682.0]| [6.1673085E7]| [7.0905737E7]| [4.9874267E7]|[4.56170861E8]| [3.6680846E7]|[1.98935712E8]|[1.61873079E8]|[1.86004252E8]|[1.00784386E8]|[3.60102354E8]|\n",
      "|{G2B2-A8XY58CP-28...|[[4.10463155E8], ...|[4.10463155E8]| [1.9244439E7]| [5.4649098E7]|[2.81687227E8]|[1.47783843E8]| [1.3678688E8]|   [6906386.0]|[3.28211358E8]| [2.2747786E7]| [8.0600879E7]|[1.31769767E8]|[1.04425408E8]| [6.3176917E7]|[2.34725207E8]| [2.5666611E7]|[1.50856633E8]|[6.26541215E8]|[1.07061442E8]|[3.22362476E8]|[1.83662666E8]|\n",
      "|{A3A9-F4TH89AA-83...|[[2.72544609E8], ...|[2.72544609E8]| [2.9098815E7]|[2.62664869E8]| [7.4525736E7]| [2.0373073E7]| [1.3678688E8]|  [4.734444E7]| [5.0621033E7]| [3.3944483E7]| [6.0024603E7]|  [3.109805E7]|[2.36295696E8]| [3.6571617E7]| [2.3590768E7]| [9.4891926E7]|   [6162877.0]|[1.25300893E8]|[2.52825964E8]| [3.0998635E7]| [3.5070697E7]|\n",
      "|{E8B7-C8FZ88UF-29...|[[2429928.0], [3....|   [2429928.0]|[3.91363835E8]|[1.89644433E8]|[2.05279926E8]|   [4535077.0]|[1.46673087E8]|   [7889145.0]| [4.9646632E7]| [5.8595609E7]|  [3.305383E7]|[1.28787563E8]| [3.5545736E7]|[2.47733788E8]| [2.1528525E7]|[1.56880719E8]| [9.5177651E7]|  [9.697423E7]|[2.08278156E8]|   [9944934.0]| [4.2659093E7]|\n",
      "|{X8T7-A6BT54FP-72...|[[4.042433E7], [4...|  [4.042433E7]|  [4.838342E7]| [3.4057439E7]| [7.2480523E7]|  [7.615946E7]| [4.9218143E7]| [2.2688504E7]|[2.74521632E8]|[1.42931798E8]|   [9022525.0]|[1.24314257E8]|   [5706725.0]|   [2167816.0]|[1.12387258E8]|[5.21497229E8]| [5.9004212E7]| [6.9844265E7]|[3.67471795E8]|[2.13413611E8]|  [8.826027E7]|\n",
      "|{H5J6-G2RS59KI-83...|[[3.4179071E7], [...| [3.4179071E7]|    [383981.0]| [3.3757556E7]| [3.3431562E7]|[1.56763044E8]|[1.46673087E8]|[1.71606879E8]|[2.89695776E8]| [4.2161525E7]| [2.7174894E7]| [1.2451831E7]|[1.02585078E8]|[1.17917085E8]|[1.33009688E8]| [1.4811828E7]| [8.3272011E7]| [3.5665475E7]| [3.7455492E7]|[2.10469323E8]| [1.8199728E7]|\n",
      "|{D9T8-M1HJ89XP-63...|[[4.6669589E7], [...| [4.6669589E7]| [1.0662504E7]| [7.5340718E7]|[2.51800555E8]|   [4535077.0]|[1.69115514E8]| [8.9748012E7]|[1.52942437E8]|[1.42931798E8]|[1.16905617E8]| [3.7062458E7]| [3.4809604E7]|   [2167816.0]| [2.1528525E7]| [1.1113841E7]| [8.3272011E7]|[3.30504996E8]| [8.2495373E7]|[2.76574714E8]| [4.2659093E7]|\n",
      "|{V3L7-L2RB92RV-91...|[[1.47116581E8], ...|[1.47116581E8]| [1.9668586E7]|[1.69252696E8]| [1.2707179E7]|[1.22966646E8]|  [7.166057E7]| [1.0360536E7]|[1.03336358E8]|   [3334047.0]| [6.2964071E7]| [6.1673085E7]|[1.37577013E8]| [4.1310982E7]| [1.0671739E7]|[2.55371026E8]| [1.1944545E8]| [5.2156521E7]|   [1260398.0]| [2.9526491E7]| [4.7741624E7]|\n",
      "|{D5K9-P0IJ71WK-63...|[[1.40871322E8], ...|[1.40871322E8]| [2.0092733E7]|[1.27669534E8]|  [9.694074E7]| [1.1393872E7]|[2.18077507E8]|[3.96964453E8]| [3.1363242E7]|[1.89976318E8]| [2.4235426E7]|  [3.109805E7]|   [4602527.0]| [9.0547001E7]| [7.0051256E7]| [8.0339156E7]| [8.5653139E7]| [2.0549409E8]| [6.8574183E7]| [7.5314253E7]|[2.36852239E8]|\n",
      "|{R0A5-U4YQ17EA-34...|[[1.77820028E8], ...|[1.77820028E8]| [1.9668586E7]|[1.37715461E8]|[1.06103029E8]|[1.16814653E8]|[1.98305093E8]| [5.2764108E7]|[2.76470434E8]|   [3334047.0]| [6.2964071E7]|[1.37734175E8]| [2.3592763E8]|[1.24950802E8]| [4.4758769E7]| [8.7655404E7]|   [8544005.0]|[6.46622355E8]| [8.5279611E7]|  [4.984412E7]|[1.72685916E8]|\n",
      "|{Y8Z6-X5HU72BM-73...|[[3.4179071E7], [...| [3.4179071E7]|[2.24164595E8]|[1.48061271E8]| [6.5008855E7]| [3.0001181E8]|[1.59698349E8]|[1.79497938E8]|[1.09368807E8]|[1.36972488E8]|  [9.581378E7]| [6.0181983E7]|[1.35368617E8]| [2.4620422E8]|   [2422767.0]|[1.35011701E8]| [3.9955188E7]| [7.3434359E7]| [3.4671254E7]|[1.66153705E8]|[3.87138385E8]|\n",
      "|{K3B8-S0RJ27BU-68...|[[5.2914848E7], [...| [5.2914848E7]|[2.70467446E8]|[5.22609612E8]|[2.38902432E8]|[1.17816961E9]| [5.2357198E7]| [3.9453381E7]| [7.4936872E7]|[2.40000493E8]|[2.47788892E8]|[1.36243073E8]| [2.3776796E8]|[1.57825035E8]| [4.6821012E7]| [2.1968624E7]|[6.52522523E8]|[3.50586136E8]|[3.75824509E8]|[1.41419644E8]| [1.4811374E7]|\n",
      "|{J7Y1-G7KD78BQ-41...|[[5.2914848E7], [...| [5.2914848E7]|[3.35630755E8]| [7.5340718E7]| [3.7167396E7]| [1.2807476E7]|  [7.166057E7]| [1.7062412E8]|[1.34659047E8]|   [5591779.0]|[1.82089474E8]|   [6487423.0]| [7.3482199E7]|   [2167816.0]| [7.6237985E7]| [5.4851877E7]| [4.2336316E7]|[1.34743114E8]|   [1260398.0]|  [9.489581E7]| [7.3895166E7]|\n",
      "|{D7P4-Z0PP26KM-17...|[[2.15291582E8], ...|[2.15291582E8]|   [1232275.0]| [2.6276483E8]| [2.5959894E7]| [6.0321464E7]|[3.18671506E8]| [1.0207598E8]| [6.9878824E7]|[2.68353197E8]| [3.3569391E7]| [5.8690881E7]|   [2026065.0]|[2.88406522E8]|[3.50876427E8]|  [5.115389E7]| [2.3287292E7]|[1.06416451E8]|[1.38180133E8]|   [4792430.0]|[1.50732416E8]|\n",
      "|{P6J4-Y0XJ63II-57...|[[1.33057519E8], ...|[1.33057519E8]| [9.4686271E7]|[1.79598506E8]| [1.2707179E7]|  [2.793867E7]| [9.0963942E7]|[3.01794859E8]|[1.37768293E8]|[2.37020838E8]|[1.13966149E8]| [2.6624744E7]| [7.2009935E7]| [7.5714783E7]|[1.05654958E8]| [1.1113841E7]| [1.0753981E8]| [7.9286486E7]| [5.1376682E7]| [5.6468768E7]| [4.7741624E7]|\n",
      "|{K7Y5-V5IP47OA-83...|[[8.3095447E7], [...| [8.3095447E7]| [2.9947109E7]| [5.4749059E7]| [5.5846566E7]|[1.63621839E8]| [3.8862894E7]| [3.5999231E7]| [2.5330793E7]|[1.78779621E8]|   [3143589.0]|[1.02685834E8]| [1.6962442E8]| [7.7244351E7]|  [3.183974E7]|[1.46025936E8]| [1.8068517E7]|  [6.279544E7]| [8.4787538E7]| [5.2788408E7]|   [9728843.0]|\n",
      "|{R9V2-W5OA43XS-14...|[[4.6669589E7], [...| [4.6669589E7]| [4.7535126E7]| [4.4303288E7]| [4.2593851E7]| [9.1997456E7]|[1.98305093E8]|  [4.734444E7]| [6.0737129E7]|   [9.21857E7]|   [3143589.0]|[3.31622099E8]|[1.35736683E8]| [5.6907984E7]| [3.3901983E7]| [8.7655404E7]| [1.3306261E7]|[3.16407346E8]| [4.8592444E7]| [7.3842109E7]| [5.7024197E7]|\n",
      "|{X4R4-F1BP75UA-02...|[[2.60054091E8], ...|[2.60054091E8]| [1.0238357E7]|   [2520204.0]| [1.2707179E7]| [5.2755867E7]|[2.40988976E8]| [1.9234354E7]| [4.1730742E8]| [8.0989003E7]|[1.13966149E8]| [2.6624744E7]|   [1657999.0]| [4.2075766E7]| [8.9157014E7]| [1.1684067E8]|[2.37490279E8]| [8.7532009E7]| [5.6945158E7]|  [1.215315E7]|   [9728843.0]|\n",
      "|{N4L7-S2MN81EJ-50...|[[1.08076483E8], ...|[1.08076483E8]|[1.40140828E8]|  [9.623226E7]| [2.9695728E7]| [4.4483468E7]| [1.0142357E7]|[1.58296152E8]| [3.0388841E7]| [3.1016033E8]|[2.65941261E8]|    [523015.0]|[1.68888288E8]|   [9201533.0]|[3.02353696E8]| [1.8350363E7]| [1.8068517E7]|[3.75322705E8]|[1.21474705E8]|[1.01520458E8]| [7.3895166E7]|\n",
      "+--------------------+--------------------+--------------+--------------+--------------+--------------+--------------+--------------+--------------+--------------+--------------+--------------+--------------+--------------+--------------+--------------+--------------+--------------+--------------+--------------+--------------+--------------+\n",
      "only showing top 20 rows\n",
      "\n"
     ]
    },
    {
     "name": "stderr",
     "output_type": "stream",
     "text": [
      "                                                                                \r"
     ]
    }
   ],
   "source": [
    "id_hash.show()"
   ]
  },
  {
   "cell_type": "code",
   "execution_count": 17,
   "id": "4f487d3a-526d-4cd3-b415-a16c3f18d983",
   "metadata": {},
   "outputs": [],
   "source": [
    "udf_getNumber = udf(lambda x: int(x[0]), LongType())\n",
    "\n",
    "for col_num in range(20):\n",
    "    id_hash = id_hash.withColumn('hash_'+str(col_num), udf_getNumber('hash_'+str(col_num)))"
   ]
  },
  {
   "cell_type": "code",
   "execution_count": 18,
   "id": "06406129-d412-4cc2-be6d-7f532852e76b",
   "metadata": {},
   "outputs": [
    {
     "name": "stderr",
     "output_type": "stream",
     "text": [
      "[Stage 13:>                                                         (0 + 1) / 1]\r"
     ]
    },
    {
     "name": "stdout",
     "output_type": "stream",
     "text": [
      "+--------------------+--------------------+---------+---------+---------+---------+----------+---------+---------+---------+---------+---------+---------+---------+---------+---------+---------+---------+---------+---------+---------+---------+\n",
      "|                  id|              hashes|   hash_0|   hash_1|   hash_2|   hash_3|    hash_4|   hash_5|   hash_6|   hash_7|   hash_8|   hash_9|  hash_10|  hash_11|  hash_12|  hash_13|  hash_14|  hash_15|  hash_16|  hash_17|  hash_18|  hash_19|\n",
      "+--------------------+--------------------+---------+---------+---------+---------+----------+---------+---------+---------+---------+---------+---------+---------+---------+---------+---------+---------+---------+---------+---------+---------+\n",
      "|{R3I7-S4TX96FG-82...|[[2.7410964E7], [...| 27410964|  1656422| 54649098| 63318234|  91997456|146204045|  6906386| 16189098| 86948313|131602957| 35571356|204248289| 49109483| 97405986| 25666611|201316840|172511998|  1260398| 49844120|  2140447|\n",
      "|{R0R9-E4GL59IK-29...|[[1.01831224E8], ...|101831224| 65547290|  2720126|477995808|  12807476|  7003302| 44873049|157026084|  6313702|   719682| 61673085| 70905737| 49874267|456170861| 36680846|198935712|161873079|186004252|100784386|360102354|\n",
      "|{G2B2-A8XY58CP-28...|[[4.10463155E8], ...|410463155| 19244439| 54649098|281687227| 147783843|136786880|  6906386|328211358| 22747786| 80600879|131769767|104425408| 63176917|234725207| 25666611|150856633|626541215|107061442|322362476|183662666|\n",
      "|{A3A9-F4TH89AA-83...|[[2.72544609E8], ...|272544609| 29098815|262664869| 74525736|  20373073|136786880| 47344440| 50621033| 33944483| 60024603| 31098050|236295696| 36571617| 23590768| 94891926|  6162877|125300893|252825964| 30998635| 35070697|\n",
      "|{E8B7-C8FZ88UF-29...|[[2429928.0], [3....|  2429928|391363835|189644433|205279926|   4535077|146673087|  7889145| 49646632| 58595609| 33053830|128787563| 35545736|247733788| 21528525|156880719| 95177651| 96974230|208278156|  9944934| 42659093|\n",
      "|{X8T7-A6BT54FP-72...|[[4.042433E7], [4...| 40424330| 48383420| 34057439| 72480523|  76159460| 49218143| 22688504|274521632|142931798|  9022525|124314257|  5706725|  2167816|112387258|521497229| 59004212| 69844265|367471795|213413611| 88260270|\n",
      "|{H5J6-G2RS59KI-83...|[[3.4179071E7], [...| 34179071|   383981| 33757556| 33431562| 156763044|146673087|171606879|289695776| 42161525| 27174894| 12451831|102585078|117917085|133009688| 14811828| 83272011| 35665475| 37455492|210469323| 18199728|\n",
      "|{D9T8-M1HJ89XP-63...|[[4.6669589E7], [...| 46669589| 10662504| 75340718|251800555|   4535077|169115514| 89748012|152942437|142931798|116905617| 37062458| 34809604|  2167816| 21528525| 11113841| 83272011|330504996| 82495373|276574714| 42659093|\n",
      "|{V3L7-L2RB92RV-91...|[[1.47116581E8], ...|147116581| 19668586|169252696| 12707179| 122966646| 71660570| 10360536|103336358|  3334047| 62964071| 61673085|137577013| 41310982| 10671739|255371026|119445450| 52156521|  1260398| 29526491| 47741624|\n",
      "|{D5K9-P0IJ71WK-63...|[[1.40871322E8], ...|140871322| 20092733|127669534| 96940740|  11393872|218077507|396964453| 31363242|189976318| 24235426| 31098050|  4602527| 90547001| 70051256| 80339156| 85653139|205494090| 68574183| 75314253|236852239|\n",
      "|{R0A5-U4YQ17EA-34...|[[1.77820028E8], ...|177820028| 19668586|137715461|106103029| 116814653|198305093| 52764108|276470434|  3334047| 62964071|137734175|235927630|124950802| 44758769| 87655404|  8544005|646622355| 85279611| 49844120|172685916|\n",
      "|{Y8Z6-X5HU72BM-73...|[[3.4179071E7], [...| 34179071|224164595|148061271| 65008855| 300011810|159698349|179497938|109368807|136972488| 95813780| 60181983|135368617|246204220|  2422767|135011701| 39955188| 73434359| 34671254|166153705|387138385|\n",
      "|{K3B8-S0RJ27BU-68...|[[5.2914848E7], [...| 52914848|270467446|522609612|238902432|1178169610| 52357198| 39453381| 74936872|240000493|247788892|136243073|237767960|157825035| 46821012| 21968624|652522523|350586136|375824509|141419644| 14811374|\n",
      "|{J7Y1-G7KD78BQ-41...|[[5.2914848E7], [...| 52914848|335630755| 75340718| 37167396|  12807476| 71660570|170624120|134659047|  5591779|182089474|  6487423| 73482199|  2167816| 76237985| 54851877| 42336316|134743114|  1260398| 94895810| 73895166|\n",
      "|{D7P4-Z0PP26KM-17...|[[2.15291582E8], ...|215291582|  1232275|262764830| 25959894|  60321464|318671506|102075980| 69878824|268353197| 33569391| 58690881|  2026065|288406522|350876427| 51153890| 23287292|106416451|138180133|  4792430|150732416|\n",
      "|{P6J4-Y0XJ63II-57...|[[1.33057519E8], ...|133057519| 94686271|179598506| 12707179|  27938670| 90963942|301794859|137768293|237020838|113966149| 26624744| 72009935| 75714783|105654958| 11113841|107539810| 79286486| 51376682| 56468768| 47741624|\n",
      "|{K7Y5-V5IP47OA-83...|[[8.3095447E7], [...| 83095447| 29947109| 54749059| 55846566| 163621839| 38862894| 35999231| 25330793|178779621|  3143589|102685834|169624420| 77244351| 31839740|146025936| 18068517| 62795440| 84787538| 52788408|  9728843|\n",
      "|{R9V2-W5OA43XS-14...|[[4.6669589E7], [...| 46669589| 47535126| 44303288| 42593851|  91997456|198305093| 47344440| 60737129| 92185700|  3143589|331622099|135736683| 56907984| 33901983| 87655404| 13306261|316407346| 48592444| 73842109| 57024197|\n",
      "|{X4R4-F1BP75UA-02...|[[2.60054091E8], ...|260054091| 10238357|  2520204| 12707179|  52755867|240988976| 19234354|417307420| 80989003|113966149| 26624744|  1657999| 42075766| 89157014|116840670|237490279| 87532009| 56945158| 12153150|  9728843|\n",
      "|{N4L7-S2MN81EJ-50...|[[1.08076483E8], ...|108076483|140140828| 96232260| 29695728|  44483468| 10142357|158296152| 30388841|310160330|265941261|   523015|168888288|  9201533|302353696| 18350363| 18068517|375322705|121474705|101520458| 73895166|\n",
      "+--------------------+--------------------+---------+---------+---------+---------+----------+---------+---------+---------+---------+---------+---------+---------+---------+---------+---------+---------+---------+---------+---------+---------+\n",
      "only showing top 20 rows\n",
      "\n"
     ]
    },
    {
     "name": "stderr",
     "output_type": "stream",
     "text": [
      "                                                                                \r"
     ]
    }
   ],
   "source": [
    "id_hash.show()"
   ]
  },
  {
   "cell_type": "code",
   "execution_count": 19,
   "id": "218bafcd-a375-4758-a5f6-061e3f494381",
   "metadata": {},
   "outputs": [],
   "source": [
    "hash_cols = ['hash_'+str(i) for i in range(20)]\n",
    "\n",
    "assembler = VectorAssembler(inputCols=hash_cols, outputCol=\"features\")\n",
    "id_hash = assembler.transform(id_hash)"
   ]
  },
  {
   "cell_type": "code",
   "execution_count": 20,
   "id": "9a1bbc67-fc32-40d7-a4ba-874e1d07bd82",
   "metadata": {},
   "outputs": [
    {
     "name": "stderr",
     "output_type": "stream",
     "text": [
      "24/04/08 16:33:38 WARN SparkStringUtils: Truncated the string representation of a plan since it was too large. This behavior can be adjusted by setting 'spark.sql.debug.maxToStringFields'.\n",
      "[Stage 14:>                                                         (0 + 1) / 1]\r"
     ]
    },
    {
     "name": "stdout",
     "output_type": "stream",
     "text": [
      "+--------------------+--------------------+---------+---------+---------+---------+----------+---------+---------+---------+---------+---------+---------+---------+---------+---------+---------+---------+---------+---------+---------+---------+--------------------+\n",
      "|                  id|              hashes|   hash_0|   hash_1|   hash_2|   hash_3|    hash_4|   hash_5|   hash_6|   hash_7|   hash_8|   hash_9|  hash_10|  hash_11|  hash_12|  hash_13|  hash_14|  hash_15|  hash_16|  hash_17|  hash_18|  hash_19|            features|\n",
      "+--------------------+--------------------+---------+---------+---------+---------+----------+---------+---------+---------+---------+---------+---------+---------+---------+---------+---------+---------+---------+---------+---------+---------+--------------------+\n",
      "|{R3I7-S4TX96FG-82...|[[2.7410964E7], [...| 27410964|  1656422| 54649098| 63318234|  91997456|146204045|  6906386| 16189098| 86948313|131602957| 35571356|204248289| 49109483| 97405986| 25666611|201316840|172511998|  1260398| 49844120|  2140447|[2.7410964E7,1656...|\n",
      "|{R0R9-E4GL59IK-29...|[[1.01831224E8], ...|101831224| 65547290|  2720126|477995808|  12807476|  7003302| 44873049|157026084|  6313702|   719682| 61673085| 70905737| 49874267|456170861| 36680846|198935712|161873079|186004252|100784386|360102354|[1.01831224E8,6.5...|\n",
      "|{G2B2-A8XY58CP-28...|[[4.10463155E8], ...|410463155| 19244439| 54649098|281687227| 147783843|136786880|  6906386|328211358| 22747786| 80600879|131769767|104425408| 63176917|234725207| 25666611|150856633|626541215|107061442|322362476|183662666|[4.10463155E8,1.9...|\n",
      "|{A3A9-F4TH89AA-83...|[[2.72544609E8], ...|272544609| 29098815|262664869| 74525736|  20373073|136786880| 47344440| 50621033| 33944483| 60024603| 31098050|236295696| 36571617| 23590768| 94891926|  6162877|125300893|252825964| 30998635| 35070697|[2.72544609E8,2.9...|\n",
      "|{E8B7-C8FZ88UF-29...|[[2429928.0], [3....|  2429928|391363835|189644433|205279926|   4535077|146673087|  7889145| 49646632| 58595609| 33053830|128787563| 35545736|247733788| 21528525|156880719| 95177651| 96974230|208278156|  9944934| 42659093|[2429928.0,3.9136...|\n",
      "|{X8T7-A6BT54FP-72...|[[4.042433E7], [4...| 40424330| 48383420| 34057439| 72480523|  76159460| 49218143| 22688504|274521632|142931798|  9022525|124314257|  5706725|  2167816|112387258|521497229| 59004212| 69844265|367471795|213413611| 88260270|[4.042433E7,4.838...|\n",
      "|{H5J6-G2RS59KI-83...|[[3.4179071E7], [...| 34179071|   383981| 33757556| 33431562| 156763044|146673087|171606879|289695776| 42161525| 27174894| 12451831|102585078|117917085|133009688| 14811828| 83272011| 35665475| 37455492|210469323| 18199728|[3.4179071E7,3839...|\n",
      "|{D9T8-M1HJ89XP-63...|[[4.6669589E7], [...| 46669589| 10662504| 75340718|251800555|   4535077|169115514| 89748012|152942437|142931798|116905617| 37062458| 34809604|  2167816| 21528525| 11113841| 83272011|330504996| 82495373|276574714| 42659093|[4.6669589E7,1.06...|\n",
      "|{V3L7-L2RB92RV-91...|[[1.47116581E8], ...|147116581| 19668586|169252696| 12707179| 122966646| 71660570| 10360536|103336358|  3334047| 62964071| 61673085|137577013| 41310982| 10671739|255371026|119445450| 52156521|  1260398| 29526491| 47741624|[1.47116581E8,1.9...|\n",
      "|{D5K9-P0IJ71WK-63...|[[1.40871322E8], ...|140871322| 20092733|127669534| 96940740|  11393872|218077507|396964453| 31363242|189976318| 24235426| 31098050|  4602527| 90547001| 70051256| 80339156| 85653139|205494090| 68574183| 75314253|236852239|[1.40871322E8,2.0...|\n",
      "|{R0A5-U4YQ17EA-34...|[[1.77820028E8], ...|177820028| 19668586|137715461|106103029| 116814653|198305093| 52764108|276470434|  3334047| 62964071|137734175|235927630|124950802| 44758769| 87655404|  8544005|646622355| 85279611| 49844120|172685916|[1.77820028E8,1.9...|\n",
      "|{Y8Z6-X5HU72BM-73...|[[3.4179071E7], [...| 34179071|224164595|148061271| 65008855| 300011810|159698349|179497938|109368807|136972488| 95813780| 60181983|135368617|246204220|  2422767|135011701| 39955188| 73434359| 34671254|166153705|387138385|[3.4179071E7,2.24...|\n",
      "|{K3B8-S0RJ27BU-68...|[[5.2914848E7], [...| 52914848|270467446|522609612|238902432|1178169610| 52357198| 39453381| 74936872|240000493|247788892|136243073|237767960|157825035| 46821012| 21968624|652522523|350586136|375824509|141419644| 14811374|[5.2914848E7,2.70...|\n",
      "|{J7Y1-G7KD78BQ-41...|[[5.2914848E7], [...| 52914848|335630755| 75340718| 37167396|  12807476| 71660570|170624120|134659047|  5591779|182089474|  6487423| 73482199|  2167816| 76237985| 54851877| 42336316|134743114|  1260398| 94895810| 73895166|[5.2914848E7,3.35...|\n",
      "|{D7P4-Z0PP26KM-17...|[[2.15291582E8], ...|215291582|  1232275|262764830| 25959894|  60321464|318671506|102075980| 69878824|268353197| 33569391| 58690881|  2026065|288406522|350876427| 51153890| 23287292|106416451|138180133|  4792430|150732416|[2.15291582E8,123...|\n",
      "|{P6J4-Y0XJ63II-57...|[[1.33057519E8], ...|133057519| 94686271|179598506| 12707179|  27938670| 90963942|301794859|137768293|237020838|113966149| 26624744| 72009935| 75714783|105654958| 11113841|107539810| 79286486| 51376682| 56468768| 47741624|[1.33057519E8,9.4...|\n",
      "|{K7Y5-V5IP47OA-83...|[[8.3095447E7], [...| 83095447| 29947109| 54749059| 55846566| 163621839| 38862894| 35999231| 25330793|178779621|  3143589|102685834|169624420| 77244351| 31839740|146025936| 18068517| 62795440| 84787538| 52788408|  9728843|[8.3095447E7,2.99...|\n",
      "|{R9V2-W5OA43XS-14...|[[4.6669589E7], [...| 46669589| 47535126| 44303288| 42593851|  91997456|198305093| 47344440| 60737129| 92185700|  3143589|331622099|135736683| 56907984| 33901983| 87655404| 13306261|316407346| 48592444| 73842109| 57024197|[4.6669589E7,4.75...|\n",
      "|{X4R4-F1BP75UA-02...|[[2.60054091E8], ...|260054091| 10238357|  2520204| 12707179|  52755867|240988976| 19234354|417307420| 80989003|113966149| 26624744|  1657999| 42075766| 89157014|116840670|237490279| 87532009| 56945158| 12153150|  9728843|[2.60054091E8,1.0...|\n",
      "|{N4L7-S2MN81EJ-50...|[[1.08076483E8], ...|108076483|140140828| 96232260| 29695728|  44483468| 10142357|158296152| 30388841|310160330|265941261|   523015|168888288|  9201533|302353696| 18350363| 18068517|375322705|121474705|101520458| 73895166|[1.08076483E8,1.4...|\n",
      "+--------------------+--------------------+---------+---------+---------+---------+----------+---------+---------+---------+---------+---------+---------+---------+---------+---------+---------+---------+---------+---------+---------+---------+--------------------+\n",
      "only showing top 20 rows\n",
      "\n"
     ]
    },
    {
     "name": "stderr",
     "output_type": "stream",
     "text": [
      "                                                                                \r"
     ]
    }
   ],
   "source": [
    "id_hash.show()"
   ]
  },
  {
   "cell_type": "code",
   "execution_count": 21,
   "id": "2883ff8c-c302-4a9b-9510-2a51d506c78c",
   "metadata": {},
   "outputs": [
    {
     "name": "stderr",
     "output_type": "stream",
     "text": [
      "[Stage 18:>                                                         (0 + 1) / 1]\r"
     ]
    },
    {
     "name": "stdout",
     "output_type": "stream",
     "text": [
      "+--------------------+--------------------+---------+---------+---------+---------+----------+---------+---------+---------+---------+---------+---------+---------+---------+---------+---------+---------+---------+---------+---------+---------+--------------------+--------------------+\n",
      "|                  id|              hashes|   hash_0|   hash_1|   hash_2|   hash_3|    hash_4|   hash_5|   hash_6|   hash_7|   hash_8|   hash_9|  hash_10|  hash_11|  hash_12|  hash_13|  hash_14|  hash_15|  hash_16|  hash_17|  hash_18|  hash_19|            features|      scaledFeatures|\n",
      "+--------------------+--------------------+---------+---------+---------+---------+----------+---------+---------+---------+---------+---------+---------+---------+---------+---------+---------+---------+---------+---------+---------+---------+--------------------+--------------------+\n",
      "|{R3I7-S4TX96FG-82...|[[2.7410964E7], [...| 27410964|  1656422| 54649098| 63318234|  91997456|146204045|  6906386| 16189098| 86948313|131602957| 35571356|204248289| 49109483| 97405986| 25666611|201316840|172511998|  1260398| 49844120|  2140447|[2.7410964E7,1656...|[0.17826141963802...|\n",
      "|{R0R9-E4GL59IK-29...|[[1.01831224E8], ...|101831224| 65547290|  2720126|477995808|  12807476|  7003302| 44873049|157026084|  6313702|   719682| 61673085| 70905737| 49874267|456170861| 36680846|198935712|161873079|186004252|100784386|360102354|[1.01831224E8,6.5...|[0.66223787509691...|\n",
      "|{G2B2-A8XY58CP-28...|[[4.10463155E8], ...|410463155| 19244439| 54649098|281687227| 147783843|136786880|  6906386|328211358| 22747786| 80600879|131769767|104425408| 63176917|234725207| 25666611|150856633|626541215|107061442|322362476|183662666|[4.10463155E8,1.9...|[2.66936050550442...|\n",
      "|{A3A9-F4TH89AA-83...|[[2.72544609E8], ...|272544609| 29098815|262664869| 74525736|  20373073|136786880| 47344440| 50621033| 33944483| 60024603| 31098050|236295696| 36571617| 23590768| 94891926|  6162877|125300893|252825964| 30998635| 35070697|[2.72544609E8,2.9...|[1.77243634755169...|\n",
      "|{E8B7-C8FZ88UF-29...|[[2429928.0], [3....|  2429928|391363835|189644433|205279926|   4535077|146673087|  7889145| 49646632| 58595609| 33053830|128787563| 35545736|247733788| 21528525|156880719| 95177651| 96974230|208278156|  9944934| 42659093|[2429928.0,3.9136...|[0.01580252394254...|\n",
      "|{X8T7-A6BT54FP-72...|[[4.042433E7], [4...| 40424330| 48383420| 34057439| 72480523|  76159460| 49218143| 22688504|274521632|142931798|  9022525|124314257|  5706725|  2167816|112387258|521497229| 59004212| 69844265|367471795|213413611| 88260270|[4.042433E7,4.838...|[0.26289109911333...|\n",
      "|{H5J6-G2RS59KI-83...|[[3.4179071E7], [...| 34179071|   383981| 33757556| 33431562| 156763044|146673087|171606879|289695776| 42161525| 27174894| 12451831|102585078|117917085|133009688| 14811828| 83272011| 35665475| 37455492|210469323| 18199728|[3.4179071E7,3839...|[0.22227637518946...|\n",
      "|{D9T8-M1HJ89XP-63...|[[4.6669589E7], [...| 46669589| 10662504| 75340718|251800555|   4535077|169115514| 89748012|152942437|142931798|116905617| 37062458| 34809604|  2167816| 21528525| 11113841| 83272011|330504996| 82495373|276574714| 42659093|[4.6669589E7,1.06...|[0.30350582303720...|\n",
      "|{V3L7-L2RB92RV-91...|[[1.47116581E8], ...|147116581| 19668586|169252696| 12707179| 122966646| 71660570| 10360536|103336358|  3334047| 62964071| 61673085|137577013| 41310982| 10671739|255371026|119445450| 52156521|  1260398| 29526491| 47741624|[1.47116581E8,1.9...|[0.95674163744670...|\n",
      "|{D5K9-P0IJ71WK-63...|[[1.40871322E8], ...|140871322| 20092733|127669534| 96940740|  11393872|218077507|396964453| 31363242|189976318| 24235426| 31098050|  4602527| 90547001| 70051256| 80339156| 85653139|205494090| 68574183| 75314253|236852239|[1.40871322E8,2.0...|[0.91612691352283...|\n",
      "|{R0A5-U4YQ17EA-34...|[[1.77820028E8], ...|177820028| 19668586|137715461|106103029| 116814653|198305093| 52764108|276470434|  3334047| 62964071|137734175|235927630|124950802| 44758769| 87655404|  8544005|646622355| 85279611| 49844120|172685916|[1.77820028E8,1.9...|[1.15641502543849...|\n",
      "|{Y8Z6-X5HU72BM-73...|[[3.4179071E7], [...| 34179071|224164595|148061271| 65008855| 300011810|159698349|179497938|109368807|136972488| 95813780| 60181983|135368617|246204220|  2422767|135011701| 39955188| 73434359| 34671254|166153705|387138385|[3.4179071E7,2.24...|[0.22227637518946...|\n",
      "|{K3B8-S0RJ27BU-68...|[[5.2914848E7], [...| 52914848|270467446|522609612|238902432|1178169610| 52357198| 39453381| 74936872|240000493|247788892|136243073|237767960|157825035| 46821012| 21968624|652522523|350586136|375824509|141419644| 14811374|[5.2914848E7,2.70...|[0.34412054696107...|\n",
      "|{J7Y1-G7KD78BQ-41...|[[5.2914848E7], [...| 52914848|335630755| 75340718| 37167396|  12807476| 71660570|170624120|134659047|  5591779|182089474|  6487423| 73482199|  2167816| 76237985| 54851877| 42336316|134743114|  1260398| 94895810| 73895166|[5.2914848E7,3.35...|[0.34412054696107...|\n",
      "|{D7P4-Z0PP26KM-17...|[[2.15291582E8], ...|215291582|  1232275|262764830| 25959894|  60321464|318671506|102075980| 69878824|268353197| 33569391| 58690881|  2026065|288406522|350876427| 51153890| 23287292|106416451|138180133|  4792430|150732416|[2.15291582E8,123...|[1.40010336898172...|\n",
      "|{P6J4-Y0XJ63II-57...|[[1.33057519E8], ...|133057519| 94686271|179598506| 12707179|  27938670| 90963942|301794859|137768293|237020838|113966149| 26624744| 72009935| 75714783|105654958| 11113841|107539810| 79286486| 51376682| 56468768| 47741624|[1.33057519E8,9.4...|[0.86531149471626...|\n",
      "|{K7Y5-V5IP47OA-83...|[[8.3095447E7], [...| 83095447| 29947109| 54749059| 55846566| 163621839| 38862894| 35999231| 25330793|178779621|  3143589|102685834|169624420| 77244351| 31839740|146025936| 18068517| 62795440| 84787538| 52788408|  9728843|[8.3095447E7,2.99...|[0.54039370332529...|\n",
      "|{R9V2-W5OA43XS-14...|[[4.6669589E7], [...| 46669589| 47535126| 44303288| 42593851|  91997456|198305093| 47344440| 60737129| 92185700|  3143589|331622099|135736683| 56907984| 33901983| 87655404| 13306261|316407346| 48592444| 73842109| 57024197|[4.6669589E7,4.75...|[0.30350582303720...|\n",
      "|{X4R4-F1BP75UA-02...|[[2.60054091E8], ...|260054091| 10238357|  2520204| 12707179|  52755867|240988976| 19234354|417307420| 80989003|113966149| 26624744|  1657999| 42075766| 89157014|116840670|237490279| 87532009| 56945158| 12153150|  9728843|[2.60054091E8,1.0...|[1.69120689970395...|\n",
      "|{N4L7-S2MN81EJ-50...|[[1.08076483E8], ...|108076483|140140828| 96232260| 29695728|  44483468| 10142357|158296152| 30388841|310160330|265941261|   523015|168888288|  9201533|302353696| 18350363| 18068517|375322705|121474705|101520458| 73895166|[1.08076483E8,1.4...|[0.70285259902078...|\n",
      "+--------------------+--------------------+---------+---------+---------+---------+----------+---------+---------+---------+---------+---------+---------+---------+---------+---------+---------+---------+---------+---------+---------+---------+--------------------+--------------------+\n",
      "only showing top 20 rows\n",
      "\n"
     ]
    },
    {
     "name": "stderr",
     "output_type": "stream",
     "text": [
      "                                                                                \r"
     ]
    }
   ],
   "source": [
    "scaler = StandardScaler(inputCol=\"features\", outputCol=\"scaledFeatures\",\n",
    "                        withStd=True, withMean=False)\n",
    "\n",
    "# Compute summary statistics by fitting the StandardScaler \n",
    "scalerModel = scaler.fit(id_hash)\n",
    "\n",
    "# Normalize each feature to have unit standard deviation. \n",
    "id_hash_scaled = scalerModel.transform(id_hash)\n",
    "id_hash_scaled.show()"
   ]
  },
  {
   "cell_type": "code",
   "execution_count": 22,
   "id": "77d53609-4cdb-43cc-8580-61f4af582383",
   "metadata": {},
   "outputs": [
    {
     "name": "stderr",
     "output_type": "stream",
     "text": [
      "[Stage 19:>                                                         (0 + 1) / 1]\r"
     ]
    },
    {
     "name": "stdout",
     "output_type": "stream",
     "text": [
      "+--------------------+--------------------+\n",
      "|                  id|      scaledFeatures|\n",
      "+--------------------+--------------------+\n",
      "|{R3I7-S4TX96FG-82...|[0.17826141963802...|\n",
      "|{R0R9-E4GL59IK-29...|[0.66223787509691...|\n",
      "|{G2B2-A8XY58CP-28...|[2.66936050550442...|\n",
      "|{A3A9-F4TH89AA-83...|[1.77243634755169...|\n",
      "|{E8B7-C8FZ88UF-29...|[0.01580252394254...|\n",
      "|{X8T7-A6BT54FP-72...|[0.26289109911333...|\n",
      "|{H5J6-G2RS59KI-83...|[0.22227637518946...|\n",
      "|{D9T8-M1HJ89XP-63...|[0.30350582303720...|\n",
      "|{V3L7-L2RB92RV-91...|[0.95674163744670...|\n",
      "|{D5K9-P0IJ71WK-63...|[0.91612691352283...|\n",
      "|{R0A5-U4YQ17EA-34...|[1.15641502543849...|\n",
      "|{Y8Z6-X5HU72BM-73...|[0.22227637518946...|\n",
      "|{K3B8-S0RJ27BU-68...|[0.34412054696107...|\n",
      "|{J7Y1-G7KD78BQ-41...|[0.34412054696107...|\n",
      "|{D7P4-Z0PP26KM-17...|[1.40010336898172...|\n",
      "|{P6J4-Y0XJ63II-57...|[0.86531149471626...|\n",
      "|{K7Y5-V5IP47OA-83...|[0.54039370332529...|\n",
      "|{R9V2-W5OA43XS-14...|[0.30350582303720...|\n",
      "|{X4R4-F1BP75UA-02...|[1.69120689970395...|\n",
      "|{N4L7-S2MN81EJ-50...|[0.70285259902078...|\n",
      "+--------------------+--------------------+\n",
      "only showing top 20 rows\n",
      "\n"
     ]
    },
    {
     "name": "stderr",
     "output_type": "stream",
     "text": [
      "                                                                                \r"
     ]
    }
   ],
   "source": [
    "id_hash_scaled = id_hash_scaled.select('id','scaledFeatures')\n",
    "id_hash_scaled.show()"
   ]
  },
  {
   "cell_type": "code",
   "execution_count": 23,
   "id": "6a8135e2-46bb-4dc3-8d37-f471c52bfcd9",
   "metadata": {},
   "outputs": [],
   "source": [
    "id_hash_sub = id_hash_scaled.sample(withReplacement=False, fraction=0.001, seed=42)\n",
    "\n",
    "id_hash_sub_split = id_hash_sub.withColumn(\"scaledHash\", vector_to_array(\"scaledFeatures\")).select(['id'] + [col(\"scaledHash\")[i] for i in range(20)])"
   ]
  },
  {
   "cell_type": "code",
   "execution_count": 24,
   "id": "a2a1a3db-df1f-4bd8-b3c3-4ce2842c313b",
   "metadata": {},
   "outputs": [
    {
     "name": "stderr",
     "output_type": "stream",
     "text": [
      "[Stage 20:>                                                         (0 + 1) / 1]\r"
     ]
    },
    {
     "name": "stdout",
     "output_type": "stream",
     "text": [
      "+--------------------+--------------------+-------------------+--------------------+--------------------+--------------------+--------------------+-------------------+-------------------+-------------------+-------------------+--------------------+--------------------+--------------------+-------------------+--------------------+--------------------+--------------------+--------------------+-------------------+--------------------+\n",
      "|                  id|       scaledHash[0]|      scaledHash[1]|       scaledHash[2]|       scaledHash[3]|       scaledHash[4]|       scaledHash[5]|      scaledHash[6]|      scaledHash[7]|      scaledHash[8]|      scaledHash[9]|      scaledHash[10]|      scaledHash[11]|      scaledHash[12]|     scaledHash[13]|      scaledHash[14]|      scaledHash[15]|      scaledHash[16]|      scaledHash[17]|     scaledHash[18]|      scaledHash[19]|\n",
      "+--------------------+--------------------+-------------------+--------------------+--------------------+--------------------+--------------------+-------------------+-------------------+-------------------+-------------------+--------------------+--------------------+--------------------+-------------------+--------------------+--------------------+--------------------+--------------------+-------------------+--------------------+\n",
      "|{K2S4-F1DY33JO-15...|  2.0939539073150972| 2.1217458801997404|   4.333907674540695|  0.3689789992790198|  0.5594121180511947|   1.116176985785517| 1.4931106620434855|0.41757810441292664|0.15306353606622652| 0.6984916677329861|  2.0522148308541954|   1.386762436393965|  2.1646115313995478| 1.7727239678477982|   3.692853937993224|  1.0612196561795804|  2.0828233855251552|  0.4515687082468491|  0.256433413112461|   0.259858073725281|\n",
      "|{D1I9-G5HX22BQ-41...|  2.9908780652678257| 3.0822906913961363|  0.5788404114016009|  0.6250646818834367|  0.5594121180511947|  3.4468089963222903|0.12376663443561886|   2.51490330681558| 0.9617483836969279| 1.4175554080521833|  1.0160575721305634| 0.04674884763263903|0.017976339041036266| 1.3646435545123508|  0.3675413099498663|   4.419535614297299|  0.8207942230331658| 0.19975550774293577| 0.8093733891636734|   1.629962161226535|\n",
      "|{I9E9-Q3OT41AO-31...| 0.09363174016271814| 0.0718657885700871|   0.262430250112682|  0.7807596246410526|   2.096671699412036|0.002090176593756362| 2.2148932239337342| 2.9577953752079695| 0.5297608628043342| 1.4838771022220765| 0.26636087813253706|   1.616834923232414|   0.796491970573808| 0.4276254220721424|  0.8560401151093783|  0.3145703944413875|  0.7064796590456408|  0.5280104658504945| 1.5608345654904883|  1.1981921083713194|\n",
      "|{S7Z6-V6GC84AJ-34...|   4.994600464047772|  3.955146244340536|   3.134697614616406|  6.1354711441073935|  0.6400677680045572| 0.16343250314015728| 1.0806634838204863|  1.980524588708688|  4.583519133301135| 3.7256198034594132|  0.7295970074049577|   4.595145585798073|   1.321427820109149|  2.014438579386425|  1.6789640037902835|   4.215320099385374|   5.507025695537922|   4.558090181502207|  0.659564902917322|    4.08197389863829|\n",
      "|{T5S5-V5TC63CJ-15...| 0.05981747949398136|  1.578631174892016|  0.3388447999610964| 0.16387038147795988| 0.22676061663249247|  0.6141901464245242|  1.183775278376236| 1.5376325203162982| 2.3883406058768166| 0.6100627421731286|0.028649202375282838| 0.47910415537434664| 0.34890794930349545|  1.468864280101982|0.001500816674531...|   1.195222373181998|  0.4044101435774511|0.027761553134733625|  0.467132791895376|  0.7478547241649307|\n",
      "|{O0Q0-G0QO68BH-68...|   2.547516333732812|  0.285239646241136| 0.10115318035529078|  0.9784143248148285|  3.3525076174958253|   2.864150993688097|  2.421116813045234|0.40954017040794377|  1.112427314392171| 1.6425051672319395|  1.3878286925507841|  1.1794269489570353|  2.3788907306541534| 1.6729044867697058| 0.18385384212360065| 0.21406835668957433|   2.035884647654989|  0.2761972653465812|0.05182312358320237|  0.8166344104937854|\n",
      "|{T6J3-O6HK21DK-63...|  1.3628888766854197| 1.1612010690033443| 0.25935826099975023| 0.14739915646347856|0.025992603308802622|  0.9548346592391161| 0.6022150591280526|0.09182117557983273| 2.2176124039884377| 0.5398636027231231|   0.790533118615397|  0.7041239756791245|  3.4033949327100332|0.20694863522473653| 0.39782227732661146|  0.3480710736919919|  0.2567815672178883|  1.4644219964951506|  1.909164252012442|  2.0677464566885035|\n",
      "|{W9R3-C0TQ20IV-04...|  0.6284236144281751|0.41713598529580614|  1.0580636370043768| 0.16387038147795988|  1.1676017203846067|  1.3249211392502827|0.12376663443561886| 0.9776053123646123|0.22840300141384806|0.29280661215340253| 0.21761198916418562| 0.04169618109896807| 0.17392933279171519| 0.1570388946856903| 0.33726034257312104|  0.9407558393941663|  0.4982876193177834|  0.4706791476477604| 1.0078945894392757| 0.36629702628739663|\n",
      "|{Q0P2-K8RK31CY-66...| 0.09363174016271814| 0.2790279066055185|  1.3775457874062276|  0.3854502242935011|  2.2974397127357262| 0.32094746052829676|0.08665608634930347| 0.8524322388003336|  0.906458189542442|0.02364239019371761|  0.5406342206160549|0.011380181896942291| 0.07630254454496302| 0.6483022089195482|  0.6723526472831126|0.043353521028253655|  0.4044101435774511|  0.4706791476477604|0.28078977012708634| 0.46619713271184493|\n",
      "|{N1I1-L9QL88UM-07...|0.009002060687409084| 2.2536422192544103|  0.3411487917957952| 0.09798548142003462|  1.6833645480399715|   1.303133910370231|   2.42933666274843| 1.1781891676334275|0.32379173795460514|  4.514882683228616|  1.4243903592770477|  0.9670387949864347|  0.6798395595659547|  2.235115366233831|  0.0324490052398747|  0.3815717529425964| 0.09552826536019711|   3.175383568052458|  1.716732140990496|  3.3565177691164823|\n",
      "|{P1U7-G4IM71WT-84...|  0.8755121895989679| 0.5490323243504763|0.020898644115711653|  0.1968128315069225|  3.6339312807728774|  1.1712335510204046| 0.5362138126586181| 0.6101240256767588| 0.3189341185296845|0.16016322381361625| 0.21761198916418562|  2.3222103833487737|  0.8675019245851358| 0.1570388946856903| 0.03178178405127653| 0.17735623803067127|  0.4982876193177834| 0.08509287133746768|0.07617948059782774|  0.6539688603472354|\n",
      "|{X6E3-Z7LK32OI-96...|  0.1410469273417233| 0.9571448207857217|  0.5001218697184876|  0.9948855498293098|  2.6359767765167708| 0.05714674182864382|0.27220882678088043| 2.5229412408205625| 0.6804397934995773|0.11594876103368751|  0.4796981094056156| 0.02906451476479066|0.011634464787335822| 2.2018422058744664| 0.06272997261661989| 0.16381733781366772|  0.4717859696948099|  1.0248818902741896| 1.8969860735051294|  0.0720863460898905|\n",
      "|{T9L8-P4FF61BO-55...|  1.6912068997039547|  2.193905789362693|  0.5001218697184876| 0.45133512435142636|    3.49027666795318|  0.2915054933317223| 0.2639889770776841| 0.6181619596817417|0.09777334191174054| 0.3408985202134437| 0.21761198916418562| 0.48415682190801757|0.011634464787335822|  0.615029048560184| 0.18385384212360065| 0.17735623803067127|0.008463152368928936|  0.7955566174632533|0.42450916711978154|  0.5726360852739605|\n",
      "|{G7Q1-O9SX68CM-70...|   0.669038338352046| 2.5958065461623208|  0.6606309421976458|  1.3333273575061333| 0.43929975468086735| 0.10837593790526984| 1.9055578402664848|0.40954017040794377|  1.112427314392171|  1.664612398621904|   4.575578255331792| 0.23892633546855574| 0.12828687579518933|  0.906653400637857|  0.4893324006454452|   1.195222373181998|  0.9146716987734982|  0.4515687082468491| 0.1005358376124531|  0.2347518962364404|\n",
      "|{V4Y4-D2OI92EQ-25...| 0.05981747949398136| 1.1612010690033443| 0.34191678907402817|  0.7074208069558433| 0.22087505427014997|   1.064947789708891|0.47843241589238006|0.16723195728436904| 1.8257234254821153| 0.6061852968930161|   1.326892581340345|  1.1819532822238707|  0.2842398695458682|  5.200300229683133|  0.5196133680221904|  1.3156861899674122|  1.4317456167186096|   1.276695090778103|   0.27470068087343|  0.2347518962364404|\n",
      "|{K8U6-M2IB80FI-83...|   0.296705359782073|  0.687140403040764| 0.42140332803537434|  0.3944675316806983|  1.1676017203846067|  1.4350342697200575| 0.5444336623618145|0.25068067299388824| 1.6750444947868721|  1.554076241672082|  0.4918853316477034|   1.874697076006053| 0.00529259053363538| 2.7806896655182736| 0.15357287474685544|  3.7430991504686135| 0.21665519209678633|  1.4869099241881278| 2.4621042280636543| 0.05351901473871714|\n",
      "|{B5X0-S1HT16TF-47...|   4.994600464047772|  3.955146244340536|   3.134697614616406|  6.1354711441073935|  0.6400677680045572| 0.16343250314015728| 1.0806634838204863|  1.980524588708688|  4.583519133301135| 3.7256198034594132|  0.7295970074049577|   4.595145585798073|   1.321427820109149|  2.014438579386425|  1.6789640037902835|   4.215320099385374|   5.507025695537922|   4.558090181502207|  0.659564902917322|    4.08197389863829|\n",
      "|{W3F3-H9CT13FV-87...| 0.41854953155368596| 0.5583499338039025|  0.0996171857988249| 0.24622650655036646|  1.0357182322895944| 0.07893397070869537|  1.286887072931986|0.20895631513912866|0.22840300141384806| 0.4514346771632655|  1.2659564701299055|0.013906515163777772|  0.6405389768231292| 1.1106936073055809| 0.42810324470335664| 0.14385555878006687| 0.45816124419668147|  0.5089000264495831| 0.8093733891636734|  0.0720863460898905|\n",
      "|{V1G2-M6NB39HJ-20...|  1.1970297493623687| 0.5552440639860938|  0.5803764059580667|  0.4019214493079824|  0.9727192694232595|  0.4016186238014972| 1.2951069226351823| 2.0383248145734134| 1.0522795008127643|0.18227045520358065| 0.31510976710088856|  1.1592162828223516|  2.1126272001493214| 0.5484827278414557|   0.947550238428212| 0.14385555878006687|  0.1962181038495937|  0.6235626628550512| 0.6291194566490402|  1.0229734694803492|\n",
      "|{I0L5-D2RB95MK-64...|0.012402292314976186|0.14091982791523092| 0.25935826099975023|0.015629356347628045| 0.02010704094646013|  0.8779908651241771|0.05776538796618443|0.13354553343459233| 0.6051003281519558|0.29280661215340253| 0.21761198916418562| 0.25155800180273313|  1.6003750991213817| 0.8024326750482257|   0.214802030688944|  0.4517845508521038|  0.3642837684563491|  0.8337774962650761| 0.6230303673953839|0.003306659761035...|\n",
      "+--------------------+--------------------+-------------------+--------------------+--------------------+--------------------+--------------------+-------------------+-------------------+-------------------+-------------------+--------------------+--------------------+--------------------+-------------------+--------------------+--------------------+--------------------+--------------------+-------------------+--------------------+\n",
      "only showing top 20 rows\n",
      "\n"
     ]
    },
    {
     "name": "stderr",
     "output_type": "stream",
     "text": [
      "                                                                                \r"
     ]
    }
   ],
   "source": [
    "id_hash_sub_split.show()"
   ]
  },
  {
   "cell_type": "code",
   "execution_count": 31,
   "id": "87fa0f93-fc4a-45d3-a5b9-168f755744ea",
   "metadata": {},
   "outputs": [
    {
     "name": "stderr",
     "output_type": "stream",
     "text": [
      "                                                                                \r"
     ]
    }
   ],
   "source": [
    "id_hash_sub_split.write.csv('/Users/apple/Desktop/id_hash_sub_split.csv', header = True, mode = 'overwrite', )"
   ]
  },
  {
   "cell_type": "code",
   "execution_count": 32,
   "id": "1a5725bc-b3c4-4900-9cd1-8bc28db62872",
   "metadata": {},
   "outputs": [],
   "source": [
    "id_hash_sub_split = spark.read.csv( '/Users/apple/Desktop/id_hash_sub_split.csv',inferSchema=True,header=True)"
   ]
  },
  {
   "cell_type": "code",
   "execution_count": 33,
   "id": "46dcb075-16a8-440e-940c-0b098e3bd763",
   "metadata": {},
   "outputs": [
    {
     "name": "stdout",
     "output_type": "stream",
     "text": [
      "+--------------------+--------------------+-------------------+--------------------+-------------------+--------------------+-------------------+-------------------+--------------------+--------------------+-------------------+--------------------+--------------------+--------------------+-------------------+-------------------+--------------------+-------------------+--------------------+-------------------+-------------------+\n",
      "|                  id|       scaledHash[0]|      scaledHash[1]|       scaledHash[2]|      scaledHash[3]|       scaledHash[4]|      scaledHash[5]|      scaledHash[6]|       scaledHash[7]|       scaledHash[8]|      scaledHash[9]|      scaledHash[10]|      scaledHash[11]|      scaledHash[12]|     scaledHash[13]|     scaledHash[14]|      scaledHash[15]|     scaledHash[16]|      scaledHash[17]|     scaledHash[18]|     scaledHash[19]|\n",
      "+--------------------+--------------------+-------------------+--------------------+-------------------+--------------------+-------------------+-------------------+--------------------+--------------------+-------------------+--------------------+--------------------+--------------------+-------------------+-------------------+--------------------+-------------------+--------------------+-------------------+-------------------+\n",
      "|{X7F4-U2NE13EF-54...|  1.7724363475516964| 0.8911966512583867| 0.33961279723932936|0.13092793144899725|0.037763728033487605|0.08276133986695683|0.05776538796618443|  0.9358809545098528|  0.6755821740746566|0.29280661215340253|  1.8632520440652927| 0.24397900200222672|  0.3032654923069696|0.17367547486537238|  0.214802030688944| 0.11035487952946246|  1.572561830329108|  0.4673016593556947|0.06400130209051505| 0.0720863460898905|\n",
      "|{A0B0-E2SV23QQ-91...| 0.22227637518946528|  0.753088572568099| 0.10038518307705785|0.03210058136210936|  1.0869460704312444|0.13399053594358284| 0.4413218678060647|   1.102778385928891|  1.1476682373535214| 0.5879555107831642|  1.1257425723093542| 0.02906451476479066|  0.2969236180532691| 0.2235852154044186|0.18385384212360065|  0.4517845508521038|0.05540189023909513| 0.06598243193655633| 0.8154624784173298| 0.8040813217493651|\n",
      "|{X3D3-B4GV98CO-73...| 0.04961678461128006| 0.3573995554040886|0.019362649559245774| 0.1803416064924412|  1.3565986089836117| 0.4528478198781232|0.08665608634930347|  0.8524322388003336|   0.906458189542442| 0.6061852968930161|  0.7539714518891334|  3.4574148179400055|   1.373412151359375| 0.2568583757637828| 0.6420716799063675| 0.17735623803067127| 0.6527285584264104|  0.4706791476477604| 0.6473867244100092|0.08463943483431081|\n",
      "|{N5F7-T0FB93AY-48...|  1.3222741527615487| 0.4799782850053325|  1.7772824740476572| 0.0815142564055533|  1.8329047232220113| 1.4094196716817444|0.22687842899136867|  0.8187458149505569| 0.24845227260698363| 0.5177563713331587|  0.5528214428581428|   2.076979896909312|  1.2567597403515216|  1.160603347844627| 0.3063121540077777|  1.1449713543060913| 1.8276926079271316|  0.6426731022559626| 1.0018055001856194| 0.7353016354205104|\n",
      "|{S9N3-U9KY71IF-76...| 0.22227637518946528| 0.0718657885700871|  0.5001218697184876| 0.2956401815938104|  2.3033252750980684|  1.515705432993258| 0.6022150591280526|  3.3926495095953766|  1.1877667797397926| 0.6061852968930161|   2.625135960305407|  0.9291437959839026|0.011634464787335822| 0.2235852154044186|  1.588121101660048|  0.6862893056063346|0.29690794233899026|  0.4515687082468491|0.06400130209051505| 0.5726360852739605|\n",
      "|{O7P4-J4MX48DN-21...|  0.7468675545722209|0.21307973707818345| 0.10268917491175666| 0.0395544989893935| 0.43929975468086735|0.08276133986695683|0.08665608634930347|  0.8524322388003336|  0.6002427087270351|  0.521633816613271|  0.7661586741312213|  1.1592162828223516|  0.6341971025694287| 0.2235852154044186| 0.6723526472831126| 0.23081869631487653| 0.1962181038495937|0.008651113733822276| 0.1005358376124531| 0.6414157716028152|\n",
      "|{F4A7-V1EV67HK-34...|  0.7468675545722209| 0.5614558036217113|  1.2178047122053022| 0.5666336994527956|   2.624205651792086| 2.0689214684308768| 0.7506572514733141|   1.110816319933874| 0.03762552833233389|0.11594876103368751| 0.10177253582781004| 0.04169618109896807| 0.34890794930349545| 1.7893605480274803| 0.9778312058049572|  0.9607176184277672| 0.1962181038495937|  0.5246329775584287|0.04573403432954602|0.05351901473871714|\n",
      "|{X1J5-Q3FH56QA-27...|   4.784726381173283| 3.4810855783779555|  3.4564837568529554| 0.6085934568689554|   1.092831632793587|  5.521295026475934| 1.4271094155740511|   4.403606719944435|   2.107032015679466| 0.6542772049530573|   7.909574485017854| 0.23892633546855574|     3.1181057794441| 2.2018422058744664|0.18385384212360065|  2.1963381687080226|0.06221425298815933|   5.383216564033461|  2.474282406570967|  7.072194641467375|\n",
      "|{Z5F8-O9YX10TX-16...|   0.750267786199788|0.14402569773303964|   1.698563932364544|0.08896817403283744| 0.15787609140381503| 0.9548346592391161| 0.8908795941153793|  0.3341293887034074|0.022433876564119003|0.27457682604355055|  0.8758436743100121|0.021485514964284216|   2.274922068153701|0.10272790963510525| 1.2826425431382036|  0.2810697151907831| 0.1962181038495937| 0.23797638654475847| 0.8215515676709861| 1.1730859308824788|\n",
      "|{A5Q0-F9WM88PG-43...|  0.4591642554775569| 0.8314602213666691| 0.10192117763352372| 0.6909495819413619|  2.2344407498693912|  5.521295026475934|  2.363335416278996|  0.4256160384179095|  0.3991312033022267| 1.5982907044520107| 0.24198643364836134|0.013906515163777772|  0.8611600503314353|  1.414553295051397|0.18385384212360065|  0.9240054997688641| 0.4717859696948099|  0.8719983750668988|0.44886552413440695| 0.0720863460898905|\n",
      "|{W1E9-O5ML63BW-01...|  0.1410469273417233| 0.0718657885700871|   3.215720148134218|  0.065043031391072|  1.0239471075649094| 0.7422631366160892|0.06598523766938079|  0.5347132439722225| 0.39427358387730604| 0.5437410480032354|  0.7783458963733092| 0.04422251436580355| 0.12828687579518933|0.08609132945542317| 1.4959437571526162|   1.503151365254035|0.45134888144761726|  0.4673016593556947| 0.2442552346051483| 1.1168593332980445|\n",
      "|{F6D6-X4GW40ON-25...|   0.750267786199788| 0.9571448207857217| 0.33961279723932936|0.24622650655036646|  1.1046027575182717|0.05714674182864382|0.06598523766938079|  0.9776053123646123| 0.37908193210909114|0.11594876103368751|  0.5893831095844064| 0.47910415537434664| 0.46556036031134895| 0.5817558882008199|0.09234371880476691|0.009852841777649246| 0.8745453236523962|  1.1395445266796578|  0.467132791895376| 0.4099705351274106|\n",
      "|{Q4N1-V5LT46HO-36...| 0.26289109911333625| 1.0261988601308656|  2.4972693083691704| 0.5427085568110301|  3.5650467555442003| 0.5335189831513237| 3.0768981284660484|  2.2228328018322627| 0.22840300141384806|0.29280661215340253|0.004274757891107...| 0.47405148884067566| 0.18661308129911608| 1.2980972337936225| 1.2826425431382036|  0.4150724321932008| 0.2098428293477221|  0.5853417840532286| 1.5669236547441445| 1.1730859308824788|\n",
      "|{W6Y4-E2AW43RX-33...|  1.2376444732862397| 0.6180863636956201|  1.9370235492485826|0.03210058136210936|  3.6221601560481926| 0.1890471011784703| 1.6333330046855508|  1.2953243071927234|  1.8257234254821153| 1.8414702497416189|   2.612948738063319|  1.1592162828223516|   2.508226890169408| 0.9399265609972212| 2.3807640229642084|  1.5366520445046394|0.15609172872849172|   0.719114859859608|   1.94569878753438|  4.870195471882198|\n",
      "|{W5S4-U4XM40QD-76...|  0.3035058230372072| 0.5583499338039025|  1.2972912511666483|0.11445670643451593|  0.9609481446985745|  2.149592631704077| 2.0086696348222346|   6.266661643228496|  0.9568907642720073| 1.0560848152525284|0.016461980133194973|  2.3171577168151027|   1.762669967125761| 0.9731997213565853|  0.947550238428212| 0.14385555878006687| 0.6057898205562442|  0.5662313446523172|   3.61669689419533| 0.6288626828583949|\n",
      "|{V4H2-R5ZD31RL-77...|   2.588131057656683| 0.4202418551136149|  1.4593363182022725|  3.482040527015988|  1.0357182322895944| 0.2658908952934093| 0.5815442104481299|   1.428535314761985|  1.3937359045895217| 1.0378550291426765|   2.698259293757934|  1.6345192561002624|  0.2842398695458682| 0.2402217955841007| 1.0383931405584474| 0.14385555878006687| 0.4649736069457457|  0.6235626628550512| 2.3244739203246154|   1.21074519711574|\n",
      "|{C7T0-L3MJ74SB-13...|0.053017016238847164|  3.829461644921483|   1.137550175965723|0.04857180637659068|  1.0357182322895944|  2.310934958250478|  2.318005018489484|0.008372459870313542|  1.2430569738942785|  0.809027824682808|  1.5036681458871597|  0.9569334619190929|   3.507363595210486| 1.1106936073055809| 0.5202805892107886| 0.14385555878006687| 0.1962181038495937|  0.6235626628550512|  1.398847900736824| 1.4984170311755787|\n",
      "|{I6L3-E4EQ93VE-97...|    2.62194531832542| 3.9613579839761535|  1.2972912511666483| 0.9125294247569032| 0.43929975468086735| 0.2146616992167833|   4.30601981343185|  0.6935727413862781|  0.5449525145725491|0.11594876103368751|  0.5893831095844064| 0.49931482150903045| 0.07630254454496302| 0.1570388946856903| 0.4893324006454452|  1.7241172197912622| 0.8609205981542678|  1.1395445266796578| 0.1005358376124531| 0.5475299077851199|\n",
      "|{R9Z5-I0WU67NC-54...|   0.543793934952866| 1.6383676047837337| 0.10038518307705785| 0.2956401815938104|  2.0219016118210162| 0.7166485385777762|  1.257996374548867|   0.902194530660076|  1.0322302296196288| 0.7205988991229505|   1.314705359098257|   0.711702975479631| 0.34256607504979497| 1.0231094618956316| 0.3675413099498663|  2.8424853926944023|  0.867732960903332| 0.06598243193655633| 0.4610437026417196| 0.7915282330049448|\n",
      "|{O6K2-B8YA11OR-49...|0.009002060687409084| 1.5755253050742073|  0.4221713253136073| 0.8795869747279406|  0.3527585423651624|0.05331937267038237| 0.7877677995596295| 0.09182117557983273|  0.8062118335767642| 0.3187912888234793| 0.27854810037462496| 0.00885384863010681| 0.24493928680304283|0.20694863522473653| 0.0324490052398747| 0.07685420027885806| 1.4385579794676737|  2.1400423521111795| 1.5608345654904883|0.13485178981199208|\n",
      "+--------------------+--------------------+-------------------+--------------------+-------------------+--------------------+-------------------+-------------------+--------------------+--------------------+-------------------+--------------------+--------------------+--------------------+-------------------+-------------------+--------------------+-------------------+--------------------+-------------------+-------------------+\n",
      "only showing top 20 rows\n",
      "\n"
     ]
    }
   ],
   "source": [
    "id_hash_sub_split.show()"
   ]
  },
  {
   "cell_type": "code",
   "execution_count": 36,
   "id": "e6864206-80eb-421a-bc3f-c67aa203982d",
   "metadata": {},
   "outputs": [
    {
     "name": "stdout",
     "output_type": "stream",
     "text": [
      "+--------------------+--------------------+\n",
      "|                  id|      scaledFeatures|\n",
      "+--------------------+--------------------+\n",
      "|{X7F4-U2NE13EF-54...|[1.77243634755169...|\n",
      "|{A0B0-E2SV23QQ-91...|[0.22227637518946...|\n",
      "|{X3D3-B4GV98CO-73...|[0.04961678461128...|\n",
      "|{N5F7-T0FB93AY-48...|[1.32227415276154...|\n",
      "|{S9N3-U9KY71IF-76...|[0.22227637518946...|\n",
      "|{O7P4-J4MX48DN-21...|[0.74686755457222...|\n",
      "|{F4A7-V1EV67HK-34...|[0.74686755457222...|\n",
      "|{X1J5-Q3FH56QA-27...|[4.78472638117328...|\n",
      "|{Z5F8-O9YX10TX-16...|[0.75026778619978...|\n",
      "|{A5Q0-F9WM88PG-43...|[0.45916425547755...|\n",
      "|{W1E9-O5ML63BW-01...|[0.14104692734172...|\n",
      "|{F6D6-X4GW40ON-25...|[0.75026778619978...|\n",
      "|{Q4N1-V5LT46HO-36...|[0.26289109911333...|\n",
      "|{W6Y4-E2AW43RX-33...|[1.23764447328623...|\n",
      "|{W5S4-U4XM40QD-76...|[0.30350582303720...|\n",
      "|{V4H2-R5ZD31RL-77...|[2.58813105765668...|\n",
      "|{C7T0-L3MJ74SB-13...|[0.05301701623884...|\n",
      "|{I6L3-E4EQ93VE-97...|[2.62194531832542...|\n",
      "|{R9Z5-I0WU67NC-54...|[0.54379393495286...|\n",
      "|{O6K2-B8YA11OR-49...|[0.00900206068740...|\n",
      "+--------------------+--------------------+\n",
      "only showing top 20 rows\n",
      "\n"
     ]
    }
   ],
   "source": [
    "hash_cols = ['scaledHash['+str(i)+']' for i in range(20)]\n",
    "\n",
    "assembler = VectorAssembler(inputCols=hash_cols, outputCol=\"scaledFeatures\")\n",
    "id_hash_sub = assembler.transform(id_hash_sub_split).select('id','scaledFeatures')\n",
    "id_hash_sub.show()"
   ]
  },
  {
   "cell_type": "code",
   "execution_count": 38,
   "id": "aea54233-4235-4611-9ba5-5cd08189c378",
   "metadata": {},
   "outputs": [
    {
     "name": "stdout",
     "output_type": "stream",
     "text": [
      "With K=2\n",
      "Silhouette with squared euclidean distance = 0.824752394069598\n",
      "------------------------------------------------------------\n",
      "With K=3\n",
      "Silhouette with squared euclidean distance = 0.3992378589870248\n",
      "------------------------------------------------------------\n",
      "With K=4\n",
      "Silhouette with squared euclidean distance = 0.3792297809362569\n",
      "------------------------------------------------------------\n",
      "With K=5\n",
      "Silhouette with squared euclidean distance = 0.16661213761710883\n",
      "------------------------------------------------------------\n",
      "With K=6\n",
      "Silhouette with squared euclidean distance = 0.11280257893514062\n",
      "------------------------------------------------------------\n",
      "With K=7\n",
      "Silhouette with squared euclidean distance = 0.15345900267475507\n",
      "------------------------------------------------------------\n",
      "With K=8\n",
      "Silhouette with squared euclidean distance = 0.13792527200773635\n",
      "------------------------------------------------------------\n",
      "With K=9\n",
      "Silhouette with squared euclidean distance = 0.13094819225559381\n",
      "------------------------------------------------------------\n"
     ]
    }
   ],
   "source": [
    "errors = []\n",
    "results = []\n",
    "\n",
    "for k in range(2,10):\n",
    "    kmeansmodel = KMeans().setK(k).setMaxIter(10).setFeaturesCol('scaledFeatures').setPredictionCol('prediction').fit(id_hash_sub)\n",
    "\n",
    "    print(\"With K={}\".format(k))\n",
    "    \n",
    "    kmeans_results = kmeansmodel.transform(id_hash_sub)\n",
    "    results.append(kmeans_results)\n",
    "    \n",
    "    df_list = []\n",
    "for row in kmeans_results.collect():\n",
    "    id = row['id']\n",
    "    distance = np.linalg.norm(row['scaledFeatures'] - clusterCenters[row['prediction']])\n",
    "    item = (id, row['scaledFeatures'],row['prediction'], str(distance))\n",
    "    df_list.append(item)\n",
    "\n",
    "rdd = sc.parallelize(df_list)\n",
    "results = spark.createDataFrame(rdd,['id', 'scaledFeatures','prediction', 'distance'])evaluator = ClusteringEvaluator()\n",
    "    evaluator.setFeaturesCol('scaledFeatures').setPredictionCol(\"prediction\")\n",
    "\n",
    "    silhouette = evaluator.evaluate(kmeans_results)\n",
    "    errors.append(silhouette)\n",
    "    print(\"Silhouette with squared euclidean distance = \" + str(silhouette))\n",
    "    \n",
    "    print('--'*30)"
   ]
  },
  {
   "cell_type": "code",
   "execution_count": 39,
   "id": "6f9fc30b-1fd4-4732-ac26-e92017a559ac",
   "metadata": {},
   "outputs": [
    {
     "data": {
      "image/png": "[encoded data removed]",
      "text/plain": [
       "<Figure size 640x480 with 1 Axes>"
      ]
     },
     "metadata": {},
     "output_type": "display_data"
    }
   ],
   "source": [
    "plt.figure()\n",
    "k_number = range(2,10)\n",
    "plt.plot(k_number,errors)\n",
    "plt.xlabel('Number of K')\n",
    "plt.ylabel('Silhouette')\n",
    "plt.title('K - Silhouette')\n",
    "plt.show()"
   ]
  },
  {
   "cell_type": "code",
   "execution_count": 40,
   "id": "ae117ea4-a279-4bdc-971c-1243cdf6c76b",
   "metadata": {},
   "outputs": [],
   "source": [
    "k = 5\n",
    "\n",
    "kmeansmodel = KMeans().setK(k).setMaxIter(10).setFeaturesCol('scaledFeatures').setPredictionCol('prediction').fit(id_hash_sub)\n",
    "\n",
    "kmeans_results = kmeansmodel.transform(id_hash_sub)\n",
    "\n",
    "clusterCenters = kmeansmodel.clusterCenters()"
   ]
  },
  {
   "cell_type": "code",
   "execution_count": 41,
   "id": "e6c0eacc-ff2d-49b9-9c7e-298686cdc783",
   "metadata": {},
   "outputs": [
    {
     "name": "stdout",
     "output_type": "stream",
     "text": [
      "+--------------------+--------------------+----------+\n",
      "|                  id|      scaledFeatures|prediction|\n",
      "+--------------------+--------------------+----------+\n",
      "|{X7F4-U2NE13EF-54...|[1.77243634755169...|         1|\n",
      "|{A0B0-E2SV23QQ-91...|[0.22227637518946...|         1|\n",
      "|{X3D3-B4GV98CO-73...|[0.04961678461128...|         1|\n",
      "|{N5F7-T0FB93AY-48...|[1.32227415276154...|         3|\n",
      "|{S9N3-U9KY71IF-76...|[0.22227637518946...|         1|\n",
      "|{O7P4-J4MX48DN-21...|[0.74686755457222...|         1|\n",
      "|{F4A7-V1EV67HK-34...|[0.74686755457222...|         1|\n",
      "|{X1J5-Q3FH56QA-27...|[4.78472638117328...|         4|\n",
      "|{Z5F8-O9YX10TX-16...|[0.75026778619978...|         1|\n",
      "|{A5Q0-F9WM88PG-43...|[0.45916425547755...|         2|\n",
      "|{W1E9-O5ML63BW-01...|[0.14104692734172...|         1|\n",
      "|{F6D6-X4GW40ON-25...|[0.75026778619978...|         1|\n",
      "|{Q4N1-V5LT46HO-36...|[0.26289109911333...|         3|\n",
      "|{W6Y4-E2AW43RX-33...|[1.23764447328623...|         4|\n",
      "|{W5S4-U4XM40QD-76...|[0.30350582303720...|         4|\n",
      "|{V4H2-R5ZD31RL-77...|[2.58813105765668...|         3|\n",
      "|{C7T0-L3MJ74SB-13...|[0.05301701623884...|         3|\n",
      "|{I6L3-E4EQ93VE-97...|[2.62194531832542...|         3|\n",
      "|{R9Z5-I0WU67NC-54...|[0.54379393495286...|         3|\n",
      "|{O6K2-B8YA11OR-49...|[0.00900206068740...|         1|\n",
      "+--------------------+--------------------+----------+\n",
      "only showing top 20 rows\n",
      "\n"
     ]
    }
   ],
   "source": [
    "kmeans_results.show()"
   ]
  },
  {
   "cell_type": "code",
   "execution_count": 42,
   "id": "bf8dd13d-5a20-455a-a569-b20b9e12ea7d",
   "metadata": {},
   "outputs": [
    {
     "name": "stderr",
     "output_type": "stream",
     "text": [
      "                                                                                \r"
     ]
    }
   ],
   "source": [
    "df_list = []\n",
    "for row in kmeans_results.collect():\n",
    "    id = row['id']\n",
    "    distance = np.linalg.norm(row['scaledFeatures'] - clusterCenters[row['prediction']])\n",
    "    item = (id, row['scaledFeatures'],row['prediction'], str(distance))\n",
    "    df_list.append(item)\n",
    "\n",
    "rdd = sc.parallelize(df_list)\n",
    "results = spark.createDataFrame(rdd,['id', 'scaledFeatures','prediction', 'distance'])"
   ]
  },
  {
   "cell_type": "code",
   "execution_count": 43,
   "id": "3a3b0741-6eef-4dfb-bf70-3839d31d2684",
   "metadata": {},
   "outputs": [
    {
     "name": "stderr",
     "output_type": "stream",
     "text": [
      "[Stage 409:>                                                      (0 + 12) / 12]\r"
     ]
    },
    {
     "name": "stdout",
     "output_type": "stream",
     "text": [
      "+--------------------+--------------------+----------+------------------+\n",
      "|                  id|      scaledFeatures|prediction|          distance|\n",
      "+--------------------+--------------------+----------+------------------+\n",
      "|{G9W6-T8WK76UG-71...|[0.91612691352283...|         2|15.492761179260745|\n",
      "|{K7G2-Y1RD54JJ-67...|[4.99460046404777...|         0|13.115217325346753|\n",
      "|{B5I4-I5MP84ZN-96...|[6.8290635038771,...|         4|12.295043280773347|\n",
      "|{G8Y8-W0JU63IX-16...|[0.95334140581914...|         4|11.986336079656036|\n",
      "|{X1J5-Q3FH56QA-27...|[4.78472638117328...|         4|11.847426504320577|\n",
      "|{Q9F8-G6PL07OP-73...|[3.64751411130489...|         4|11.414864466110961|\n",
      "|{W4Q5-B0SF07GO-16...|[0.75026778619978...|         4|11.348367471138745|\n",
      "|{D3I2-Y0XJ44NP-43...|[0.54379393495286...|         2|11.308493208145421|\n",
      "|{J2C6-K1JG47EB-82...|[1.85026556377187...|         2|11.168006266386271|\n",
      "|{P0L4-J0CQ24AR-30...|[2.49670091492624...|         2|10.979747625033783|\n",
      "|{G0S5-A5VJ68KA-86...|[6.45673052530712...|         4|10.888881235605352|\n",
      "|{I6Z0-D6GG08WJ-08...|[6.16902722621246...|         4|10.852482820600718|\n",
      "|{O3T7-P6VU28FK-44...|[1.20042998098993...|         4|10.792847056239436|\n",
      "|{R3Q3-H1ZH84OZ-77...|[0.87551218959896...|         4|10.420122457016541|\n",
      "|{O0A3-Y1DO14NC-32...|[5.72226526304988...|         2|10.283143774297978|\n",
      "|{C3R9-X3SO32QB-49...|[0.66563810672447...|         4|  9.85997629926865|\n",
      "|{V7Z7-T6HS21DC-73...|[0.42194976318125...|         4| 9.767936877128884|\n",
      "|{D7R3-E4WH84JM-41...|[1.89428051932330...|         4| 9.692085683424638|\n",
      "|{E0T6-Z3KR11RU-51...|[1.28165942883767...|         2| 9.601101151723311|\n",
      "|{I6T2-K9YJ08LD-99...|[0.42194976318125...|         2|  9.57590699329604|\n",
      "+--------------------+--------------------+----------+------------------+\n",
      "only showing top 20 rows\n",
      "\n"
     ]
    },
    {
     "name": "stderr",
     "output_type": "stream",
     "text": [
      "                                                                                \r"
     ]
    }
   ],
   "source": [
    "results = results.withColumn('distance', col('distance').cast(DoubleType()))\n",
    "results = results.orderBy('distance', ascending=False)\n",
    "results.show()"
   ]
  },
  {
   "cell_type": "code",
   "execution_count": 48,
   "id": "7635a0d3-e62f-4238-b27b-f25671818afe",
   "metadata": {},
   "outputs": [
    {
     "name": "stderr",
     "output_type": "stream",
     "text": [
      "                                                                                \r"
     ]
    },
    {
     "data": {
      "image/png": "[encoded data removed]",
      "text/plain": [
       "<Figure size 640x480 with 1 Axes>"
      ]
     },
     "metadata": {},
     "output_type": "display_data"
    }
   ],
   "source": [
    "distance = results.select('distance')\n",
    "kd = KernelDensity()\n",
    "kd.setSample(distance.rdd.map(lambda x: x[0]))\n",
    "\n",
    "all_distance = list(np.arange(0,20,0.1))\n",
    "prob_all_distance = kd.estimate(all_distance)\n",
    "\n",
    "prob_max = max(prob_all_distance)\n",
    "prob_min = min(prob_all_distance)\n",
    "\n",
    "plt.plot(all_distance,prob_all_distance)\n",
    "plt.xlim(0, 20)\n",
    "plt.title(\"KDE Curve\")\n",
    "plt.show()"
   ]
  },
  {
   "cell_type": "code",
   "execution_count": null,
   "id": "51b5e028-8548-4bb8-8c31-462cb0df47b3",
   "metadata": {},
   "outputs": [],
   "source": [
    "Example of anomalous email"
   ]
  },
  {
   "cell_type": "code",
   "execution_count": 45,
   "id": "c27911dc-acf6-4d4c-a6f8-4d1ddcbb90a8",
   "metadata": {},
   "outputs": [
    {
     "data": {
      "text/plain": [
       "'{G9W6-T8WK76UG-7189CZNS}'"
      ]
     },
     "execution_count": 45,
     "metadata": {},
     "output_type": "execute_result"
    }
   ],
   "source": [
    "targetId = results.take(1)[0]['id']\n",
    "targetId"
   ]
  },
  {
   "cell_type": "code",
   "execution_count": 46,
   "id": "7ad8d3a8-6d0c-4b97-a05d-217f502b10a7",
   "metadata": {},
   "outputs": [
    {
     "name": "stderr",
     "output_type": "stream",
     "text": [
      "[Stage 417:>                                                        (0 + 7) / 7]\r"
     ]
    },
    {
     "name": "stdout",
     "output_type": "stream",
     "text": [
      "+--------------------+-------------------+-------+-------+--------------------+----+----+-----------------+-----+-----------+--------------------+\n",
      "|                  id|               date|   user|     pc|                  to|  cc| bcc|             from| size|attachments|             content|\n",
      "+--------------------+-------------------+-------+-------+--------------------+----+----+-----------------+-----+-----------+--------------------+\n",
      "|{G9W6-T8WK76UG-71...|08/09/2010 13:19:00|SNC0187|PC-4753|POB3914@optonline...|NULL|NULL|SNC53@verizon.net|41998|          4|activity courage ...|\n",
      "+--------------------+-------------------+-------+-------+--------------------+----+----+-----------------+-----+-----------+--------------------+\n",
      "\n"
     ]
    },
    {
     "name": "stderr",
     "output_type": "stream",
     "text": [
      "                                                                                \r"
     ]
    }
   ],
   "source": [
    "targetEmail = email.where(col('id') == targetId)\n",
    "targetEmail.show()"
   ]
  },
  {
   "cell_type": "code",
   "execution_count": 47,
   "id": "7b67e19c-d57e-4c21-865e-ffd997338ab0",
   "metadata": {},
   "outputs": [
    {
     "name": "stderr",
     "output_type": "stream",
     "text": [
      "                                                                                \r"
     ]
    },
    {
     "data": {
      "text/plain": [
       "'activity courage amulets raised lead poet supported emerged exposure own men frequently second stadium his intellectual approach finnmark lunging boulevard at over accurately gulf hippopotamus advent unique skin alien anything starred than if'"
      ]
     },
     "execution_count": 47,
     "metadata": {},
     "output_type": "execute_result"
    }
   ],
   "source": [
    "targetEmail.collect()[0]['content']"
   ]
  },
  {
   "cell_type": "code",
   "execution_count": null,
   "id": "22d69050-9251-4731-875c-df81a518c8f5",
   "metadata": {},
   "outputs": [],
   "source": []
  },
  {
   "cell_type": "code",
   "execution_count": null,
   "id": "126e938a-b65c-42ba-8ec8-52ebd9ffbca3",
   "metadata": {},
   "outputs": [],
   "source": []
  },
  {
   "cell_type": "code",
   "execution_count": null,
   "id": "f05a24b0-ac1a-4531-8341-e836224efa5f",
   "metadata": {},
   "outputs": [],
   "source": []
  }
 ],
 "metadata": {
  "kernelspec": {
   "display_name": "Python 3 (ipykernel)",
   "language": "python",
   "name": "python3"
  },
  "language_info": {
   "codemirror_mode": {
    "name": "ipython",
    "version": 3
   },
   "file_extension": ".py",
   "mimetype": "text/x-python",
   "name": "python",
   "nbconvert_exporter": "python",
   "pygments_lexer": "ipython3",
   "version": "3.11.7"
  }
 },
 "nbformat": 4,
 "nbformat_minor": 5
}
